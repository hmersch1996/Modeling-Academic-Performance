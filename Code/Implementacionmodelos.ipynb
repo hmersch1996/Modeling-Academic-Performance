{
 "cells": [
  {
   "cell_type": "code",
   "execution_count": 68,
   "id": "northern-birthday",
   "metadata": {},
   "outputs": [],
   "source": [
    "import numpy as np\n",
    "import matplotlib.pyplot as plt\n",
    "import pandas as pd\n",
    "from sklearn.model_selection import train_test_split\n",
    "from sklearn import linear_model, model_selection\n",
    "import seaborn as sns\n",
    "from sklearn.metrics import confusion_matrix\n",
    "from sklearn.metrics import multilabel_confusion_matrix\n",
    "from sklearn.metrics import matthews_corrcoef\n",
    "from sklearn.model_selection import train_test_split\n",
    "from sklearn.preprocessing import MinMaxScaler\n",
    "from pickle import dump,load\n",
    "from sklearn.metrics import accuracy_score\n",
    "from sklearn.metrics import confusion_matrix, classification_report \n",
    "from sklearn.model_selection import train_test_split\n",
    "import tensorflow as tf\n",
    "from tensorflow.keras.optimizers import Adam\n",
    "from tensorflow.keras import backend as Kc\n",
    "from tensorflow.keras.models import Sequential\n",
    "from tensorflow.keras.layers import Dense, Dropout,InputLayer\n",
    "from tensorflow.keras.callbacks import EarlyStopping, ModelCheckpoint\n",
    "from sklearn.linear_model import LogisticRegression\n",
    "from sklearn import metrics\n",
    "from sklearn.metrics import matthews_corrcoef\n",
    "from tensorflow.keras.utils import to_categorical\n",
    "from sklearn.utils import class_weight\n",
    "from sklearn.model_selection import KFold\n"
   ]
  },
  {
   "cell_type": "code",
   "execution_count": 69,
   "id": "hungarian-timothy",
   "metadata": {},
   "outputs": [],
   "source": [
    "\n",
    "#creamos un dataframe a partir de un dataset\n",
    "data= pd.read_csv(\"Filtrado_final.csv\",sep=\",\",index_col=False)\n"
   ]
  },
  {
   "cell_type": "code",
   "execution_count": 70,
   "id": "cubic-minutes",
   "metadata": {},
   "outputs": [],
   "source": [
    "flag=data['1P'].values<=24\n",
    "data=data[flag]\n",
    "flag=data['2P'].values<=36\n",
    "data=data[flag]\n",
    "flag=data['Taller'].values<=10\n",
    "data=data[flag]"
   ]
  },
  {
   "cell_type": "code",
   "execution_count": 71,
   "id": "passive-reward",
   "metadata": {},
   "outputs": [],
   "source": [
    "data['Anho']=data['Anho'].values-2012"
   ]
  },
  {
   "cell_type": "markdown",
   "id": "representative-fantasy",
   "metadata": {},
   "source": [
    "### data.info()"
   ]
  },
  {
   "cell_type": "code",
   "execution_count": 72,
   "id": "complex-portrait",
   "metadata": {},
   "outputs": [],
   "source": [
    "mod1=['Asignatura Codificada','Cod.Car.Sec Codificado','1P','2P','Taller','Aprobado']\n",
    "mod2=['Asignatura Codificada','Cod.Car.Sec Codificado','Anho','1P','2P','Taller','Aprobado']\n",
    "mod3=['Asignatura Codificada','Cod.Car.Sec Codificado','Recursante','1P','2P','Taller','Aprobado']\n",
    "mod4=['Asignatura Codificada','Cod.Car.Sec Codificado','Recursante','Anho','1P','Taller','Aprobado']\n",
    "mod5=['Asignatura Codificada','Cod.Car.Sec Codificado','Recursante','Anho','1P','Aprobado']\n",
    "mod6=['Asignatura Codificada','Cod.Car.Sec Codificado','Recursante','Anho','1P','2P','Aprobado']\n",
    "mod7=['Asignatura Codificada','Cod.Car.Sec Codificado','Recursante','Anho','1P','2P','Taller','Aprobado']\n",
    "mod8=['1P','Aprobado']\n",
    "\n"
   ]
  },
  {
   "cell_type": "code",
   "execution_count": null,
   "id": "exempt-dictionary",
   "metadata": {},
   "outputs": [],
   "source": [
    "\n"
   ]
  },
  {
   "cell_type": "code",
   "execution_count": 97,
   "id": "changing-volleyball",
   "metadata": {},
   "outputs": [
    {
     "name": "stdout",
     "output_type": "stream",
     "text": [
      "\n",
      "\n",
      "\n",
      "Index(['Asignatura Codificada', 'Cod.Car.Sec Codificado', '1P', '2P', 'Taller',\n",
      "       'Aprobado'],\n",
      "      dtype='object')\n"
     ]
    },
    {
     "name": "stderr",
     "output_type": "stream",
     "text": [
      "D:\\UserFiles\\anaconda\\envs\\ia\\lib\\site-packages\\sklearn\\utils\\validation.py:70: FutureWarning: Pass classes=[0 1], y=[0 1 1 ... 1 1 1] as keyword args. From version 1.0 (renaming of 0.25) passing these as positional arguments will result in an error\n",
      "  warnings.warn(f\"Pass {args_msg} as keyword args. From version \"\n"
     ]
    },
    {
     "name": "stdout",
     "output_type": "stream",
     "text": [
      "\n",
      "classes_:\n",
      "A list of class labels known to the classifier.\n",
      "[0 1]\n",
      "\n",
      "coef_:\n",
      "Coefficient of the features in the decision function.\n",
      "[[ 0.38702827 -0.15976851  1.7033008   3.38703679  0.19342662]]\n",
      "\n",
      "intercept_:\n",
      "Intercept (a.k.a. bias) added to the decision function.\n",
      "[-2.15216973]\n",
      "\n",
      "n_features_in_:\n",
      "Number of features seen during fit.\n",
      "5\n",
      "\n",
      "n_iter_:\n",
      "Actual number of iterations for all classes. If binary or multinomial, it \n",
      "returns only 1 element. For liblinear solver, only the maximum number of \n",
      "iteration across all classes is given.\n",
      "[20]\n"
     ]
    },
    {
     "data": {
      "text/plain": [
       "'Matriz de Confusion:'"
      ]
     },
     "metadata": {},
     "output_type": "display_data"
    },
    {
     "name": "stdout",
     "output_type": "stream",
     "text": [
      "[[11689  4747]\n",
      " [ 3082 18504]]\n",
      "Exactitud del modelo:  79.40928935879228  %\n",
      "Coeficiente de Matthews de la regresion logistica\n",
      "0.5777185440746513\n",
      "\n",
      "\n",
      "\n",
      "Index(['Asignatura Codificada', 'Cod.Car.Sec Codificado', 'Anho', '1P', '2P',\n",
      "       'Taller', 'Aprobado'],\n",
      "      dtype='object')\n"
     ]
    },
    {
     "name": "stderr",
     "output_type": "stream",
     "text": [
      "D:\\UserFiles\\anaconda\\envs\\ia\\lib\\site-packages\\sklearn\\utils\\validation.py:70: FutureWarning: Pass classes=[0 1], y=[0 1 1 ... 1 1 1] as keyword args. From version 1.0 (renaming of 0.25) passing these as positional arguments will result in an error\n",
      "  warnings.warn(f\"Pass {args_msg} as keyword args. From version \"\n"
     ]
    },
    {
     "name": "stdout",
     "output_type": "stream",
     "text": [
      "\n",
      "classes_:\n",
      "A list of class labels known to the classifier.\n",
      "[0 1]\n",
      "\n",
      "coef_:\n",
      "Coefficient of the features in the decision function.\n",
      "[[ 0.34889603 -0.1246011  -2.22077397  1.75850705  3.4866802   0.28868751]]\n",
      "\n",
      "intercept_:\n",
      "Intercept (a.k.a. bias) added to the decision function.\n",
      "[-1.20730942]\n",
      "\n",
      "n_features_in_:\n",
      "Number of features seen during fit.\n",
      "6\n",
      "\n",
      "n_iter_:\n",
      "Actual number of iterations for all classes. If binary or multinomial, it \n",
      "returns only 1 element. For liblinear solver, only the maximum number of \n",
      "iteration across all classes is given.\n",
      "[20]\n"
     ]
    },
    {
     "data": {
      "text/plain": [
       "'Matriz de Confusion:'"
      ]
     },
     "metadata": {},
     "output_type": "display_data"
    },
    {
     "name": "stdout",
     "output_type": "stream",
     "text": [
      "[[11823  4613]\n",
      " [ 3104 18482]]\n",
      "Exactitud del modelo:  79.70385566251117  %\n",
      "Coeficiente de Matthews de la regresion logistica\n",
      "0.5838663334907895\n",
      "\n",
      "\n",
      "\n",
      "Index(['Asignatura Codificada', 'Cod.Car.Sec Codificado', 'Recursante', '1P',\n",
      "       '2P', 'Taller', 'Aprobado'],\n",
      "      dtype='object')\n"
     ]
    },
    {
     "name": "stderr",
     "output_type": "stream",
     "text": [
      "D:\\UserFiles\\anaconda\\envs\\ia\\lib\\site-packages\\sklearn\\utils\\validation.py:70: FutureWarning: Pass classes=[0 1], y=[0 1 1 ... 1 1 1] as keyword args. From version 1.0 (renaming of 0.25) passing these as positional arguments will result in an error\n",
      "  warnings.warn(f\"Pass {args_msg} as keyword args. From version \"\n"
     ]
    },
    {
     "name": "stdout",
     "output_type": "stream",
     "text": [
      "\n",
      "classes_:\n",
      "A list of class labels known to the classifier.\n",
      "[0 1]\n",
      "\n",
      "coef_:\n",
      "Coefficient of the features in the decision function.\n",
      "[[ 0.38772276  0.02044986  6.11904406  0.90211129  1.72183398 -0.2798993 ]]\n",
      "\n",
      "intercept_:\n",
      "Intercept (a.k.a. bias) added to the decision function.\n",
      "[-6.15332598]\n",
      "\n",
      "n_features_in_:\n",
      "Number of features seen during fit.\n",
      "6\n",
      "\n",
      "n_iter_:\n",
      "Actual number of iterations for all classes. If binary or multinomial, it \n",
      "returns only 1 element. For liblinear solver, only the maximum number of \n",
      "iteration across all classes is given.\n",
      "[24]\n"
     ]
    },
    {
     "data": {
      "text/plain": [
       "'Matriz de Confusion:'"
      ]
     },
     "metadata": {},
     "output_type": "display_data"
    },
    {
     "name": "stdout",
     "output_type": "stream",
     "text": [
      "[[10921  5515]\n",
      " [  144 21442]]\n",
      "Exactitud del modelo:  85.11651149334595  %\n",
      "Coeficiente de Matthews de la regresion logistica\n",
      "0.7173922551006793\n",
      "\n",
      "\n",
      "\n",
      "Index(['Asignatura Codificada', 'Cod.Car.Sec Codificado', 'Recursante', 'Anho',\n",
      "       '1P', 'Taller', 'Aprobado'],\n",
      "      dtype='object')\n"
     ]
    },
    {
     "name": "stderr",
     "output_type": "stream",
     "text": [
      "D:\\UserFiles\\anaconda\\envs\\ia\\lib\\site-packages\\sklearn\\utils\\validation.py:70: FutureWarning: Pass classes=[0 1], y=[0 1 1 ... 1 1 1] as keyword args. From version 1.0 (renaming of 0.25) passing these as positional arguments will result in an error\n",
      "  warnings.warn(f\"Pass {args_msg} as keyword args. From version \"\n"
     ]
    },
    {
     "name": "stdout",
     "output_type": "stream",
     "text": [
      "\n",
      "classes_:\n",
      "A list of class labels known to the classifier.\n",
      "[0 1]\n",
      "\n",
      "coef_:\n",
      "Coefficient of the features in the decision function.\n",
      "[[ 0.43654442  0.09251733  6.51975199 -2.51360795  1.77188357  0.36713856]]\n",
      "\n",
      "intercept_:\n",
      "Intercept (a.k.a. bias) added to the decision function.\n",
      "[-5.32213563]\n",
      "\n",
      "n_features_in_:\n",
      "Number of features seen during fit.\n",
      "6\n",
      "\n",
      "n_iter_:\n",
      "Actual number of iterations for all classes. If binary or multinomial, it \n",
      "returns only 1 element. For liblinear solver, only the maximum number of \n",
      "iteration across all classes is given.\n",
      "[19]\n"
     ]
    },
    {
     "data": {
      "text/plain": [
       "'Matriz de Confusion:'"
      ]
     },
     "metadata": {},
     "output_type": "display_data"
    },
    {
     "name": "stdout",
     "output_type": "stream",
     "text": [
      "[[11434  5002]\n",
      " [  423 21163]]\n",
      "Exactitud del modelo:  85.7319446636158  %\n",
      "Coeficiente de Matthews de la regresion logistica\n",
      "0.7229850718992022\n",
      "\n",
      "\n",
      "\n",
      "Index(['Asignatura Codificada', 'Cod.Car.Sec Codificado', 'Recursante', 'Anho',\n",
      "       '1P', 'Aprobado'],\n",
      "      dtype='object')\n"
     ]
    },
    {
     "name": "stderr",
     "output_type": "stream",
     "text": [
      "D:\\UserFiles\\anaconda\\envs\\ia\\lib\\site-packages\\sklearn\\utils\\validation.py:70: FutureWarning: Pass classes=[0 1], y=[0 1 1 ... 1 1 1] as keyword args. From version 1.0 (renaming of 0.25) passing these as positional arguments will result in an error\n",
      "  warnings.warn(f\"Pass {args_msg} as keyword args. From version \"\n"
     ]
    },
    {
     "name": "stdout",
     "output_type": "stream",
     "text": [
      "\n",
      "classes_:\n",
      "A list of class labels known to the classifier.\n",
      "[0 1]\n",
      "\n",
      "coef_:\n",
      "Coefficient of the features in the decision function.\n",
      "[[ 0.47641435  0.09790177  6.59201056 -2.49405059  1.97642828]]\n",
      "\n",
      "intercept_:\n",
      "Intercept (a.k.a. bias) added to the decision function.\n",
      "[-5.27655933]\n",
      "\n",
      "n_features_in_:\n",
      "Number of features seen during fit.\n",
      "5\n",
      "\n",
      "n_iter_:\n",
      "Actual number of iterations for all classes. If binary or multinomial, it \n",
      "returns only 1 element. For liblinear solver, only the maximum number of \n",
      "iteration across all classes is given.\n",
      "[19]\n"
     ]
    },
    {
     "data": {
      "text/plain": [
       "'Matriz de Confusion:'"
      ]
     },
     "metadata": {},
     "output_type": "display_data"
    },
    {
     "name": "stdout",
     "output_type": "stream",
     "text": [
      "[[11404  5032]\n",
      " [  356 21230]]\n",
      "Exactitud del modelo:  85.82925674609436  %\n",
      "Coeficiente de Matthews de la regresion logistica\n",
      "0.7259891357615023\n",
      "WARNING:tensorflow:From C:\\Users\\yoda\\AppData\\Roaming\\Python\\Python38\\site-packages\\tensorflow\\python\\ops\\array_ops.py:5043: calling gather (from tensorflow.python.ops.array_ops) with validate_indices is deprecated and will be removed in a future version.\n",
      "Instructions for updating:\n",
      "The `validate_indices` argument has no effect. Indices are always validated on CPU and never validated on GPU.\n",
      "Epoch 1/100\n",
      "31/31 [==============================] - 1s 12ms/step - loss: 0.6917 - accuracy: 0.6980 - val_loss: 0.6878 - val_accuracy: 0.7741\n",
      "\n",
      "Epoch 00001: val_accuracy improved from -inf to 0.77413, saving model to best_model.h5\n",
      "Epoch 2/100\n",
      "31/31 [==============================] - 0s 5ms/step - loss: 0.6848 - accuracy: 0.8195 - val_loss: 0.6797 - val_accuracy: 0.8429\n",
      "\n",
      "Epoch 00002: val_accuracy improved from 0.77413 to 0.84288, saving model to best_model.h5\n",
      "Epoch 3/100\n",
      "31/31 [==============================] - 0s 5ms/step - loss: 0.6750 - accuracy: 0.8445 - val_loss: 0.6678 - val_accuracy: 0.8454\n",
      "\n",
      "Epoch 00003: val_accuracy improved from 0.84288 to 0.84541, saving model to best_model.h5\n",
      "Epoch 4/100\n",
      "31/31 [==============================] - 0s 5ms/step - loss: 0.6598 - accuracy: 0.8507 - val_loss: 0.6485 - val_accuracy: 0.8524\n",
      "\n",
      "Epoch 00004: val_accuracy improved from 0.84541 to 0.85237, saving model to best_model.h5\n",
      "Epoch 5/100\n",
      "31/31 [==============================] - 0s 5ms/step - loss: 0.6345 - accuracy: 0.8536 - val_loss: 0.6174 - val_accuracy: 0.8541\n",
      "\n",
      "Epoch 00005: val_accuracy improved from 0.85237 to 0.85406, saving model to best_model.h5\n",
      "Epoch 6/100\n",
      "31/31 [==============================] - 0s 5ms/step - loss: 0.5962 - accuracy: 0.8546 - val_loss: 0.5749 - val_accuracy: 0.8533\n",
      "\n",
      "Epoch 00006: val_accuracy did not improve from 0.85406\n",
      "Epoch 7/100\n",
      "31/31 [==============================] - 0s 5ms/step - loss: 0.5476 - accuracy: 0.8559 - val_loss: 0.5238 - val_accuracy: 0.8548\n",
      "\n",
      "Epoch 00007: val_accuracy improved from 0.85406 to 0.85482, saving model to best_model.h5\n",
      "Epoch 8/100\n",
      "31/31 [==============================] - 0s 5ms/step - loss: 0.4946 - accuracy: 0.8576 - val_loss: 0.4724 - val_accuracy: 0.8570\n",
      "\n",
      "Epoch 00008: val_accuracy improved from 0.85482 to 0.85698, saving model to best_model.h5\n",
      "Epoch 9/100\n",
      "31/31 [==============================] - 0s 5ms/step - loss: 0.4473 - accuracy: 0.8606 - val_loss: 0.4288 - val_accuracy: 0.8619\n",
      "\n",
      "Epoch 00009: val_accuracy improved from 0.85698 to 0.86195, saving model to best_model.h5\n",
      "Epoch 10/100\n",
      "31/31 [==============================] - 0s 5ms/step - loss: 0.4104 - accuracy: 0.8664 - val_loss: 0.3952 - val_accuracy: 0.8692\n",
      "\n",
      "Epoch 00010: val_accuracy improved from 0.86195 to 0.86923, saving model to best_model.h5\n",
      "Epoch 11/100\n",
      "31/31 [==============================] - 0s 6ms/step - loss: 0.3837 - accuracy: 0.8719 - val_loss: 0.3703 - val_accuracy: 0.8720\n",
      "\n",
      "Epoch 00011: val_accuracy improved from 0.86923 to 0.87202, saving model to best_model.h5\n",
      "Epoch 12/100\n",
      "31/31 [==============================] - 0s 5ms/step - loss: 0.3649 - accuracy: 0.8738 - val_loss: 0.3536 - val_accuracy: 0.8738\n",
      "\n",
      "Epoch 00012: val_accuracy improved from 0.87202 to 0.87384, saving model to best_model.h5\n",
      "Epoch 13/100\n",
      "31/31 [==============================] - 0s 5ms/step - loss: 0.3523 - accuracy: 0.8749 - val_loss: 0.3412 - val_accuracy: 0.8744\n",
      "\n",
      "Epoch 00013: val_accuracy improved from 0.87384 to 0.87436, saving model to best_model.h5\n",
      "Epoch 14/100\n",
      "31/31 [==============================] - 0s 5ms/step - loss: 0.3443 - accuracy: 0.8748 - val_loss: 0.3340 - val_accuracy: 0.8744\n",
      "\n",
      "Epoch 00014: val_accuracy did not improve from 0.87436\n",
      "Epoch 15/100\n",
      "31/31 [==============================] - 0s 5ms/step - loss: 0.3391 - accuracy: 0.8753 - val_loss: 0.3305 - val_accuracy: 0.8753\n",
      "\n",
      "Epoch 00015: val_accuracy improved from 0.87436 to 0.87526, saving model to best_model.h5\n",
      "Epoch 16/100\n",
      "31/31 [==============================] - 0s 6ms/step - loss: 0.3356 - accuracy: 0.8760 - val_loss: 0.3266 - val_accuracy: 0.8754\n",
      "\n",
      "Epoch 00016: val_accuracy improved from 0.87526 to 0.87544, saving model to best_model.h5\n",
      "Epoch 17/100\n",
      "31/31 [==============================] - 0s 6ms/step - loss: 0.3332 - accuracy: 0.8759 - val_loss: 0.3232 - val_accuracy: 0.8759\n",
      "\n",
      "Epoch 00017: val_accuracy improved from 0.87544 to 0.87589, saving model to best_model.h5\n",
      "Epoch 18/100\n",
      "31/31 [==============================] - 0s 6ms/step - loss: 0.3314 - accuracy: 0.8769 - val_loss: 0.3220 - val_accuracy: 0.8764\n",
      "\n",
      "Epoch 00018: val_accuracy improved from 0.87589 to 0.87644, saving model to best_model.h5\n",
      "Epoch 19/100\n",
      "31/31 [==============================] - 0s 6ms/step - loss: 0.3299 - accuracy: 0.8772 - val_loss: 0.3204 - val_accuracy: 0.8766\n",
      "\n",
      "Epoch 00019: val_accuracy improved from 0.87644 to 0.87660, saving model to best_model.h5\n",
      "Epoch 20/100\n",
      "31/31 [==============================] - 0s 6ms/step - loss: 0.3286 - accuracy: 0.8775 - val_loss: 0.3198 - val_accuracy: 0.8769\n",
      "\n",
      "Epoch 00020: val_accuracy improved from 0.87660 to 0.87691, saving model to best_model.h5\n",
      "Epoch 21/100\n",
      "31/31 [==============================] - 0s 5ms/step - loss: 0.3273 - accuracy: 0.8782 - val_loss: 0.3187 - val_accuracy: 0.8771\n",
      "\n",
      "Epoch 00021: val_accuracy improved from 0.87691 to 0.87710, saving model to best_model.h5\n",
      "Epoch 22/100\n",
      "31/31 [==============================] - 0s 6ms/step - loss: 0.3260 - accuracy: 0.8784 - val_loss: 0.3156 - val_accuracy: 0.8794\n",
      "\n",
      "Epoch 00022: val_accuracy improved from 0.87710 to 0.87939, saving model to best_model.h5\n",
      "Epoch 23/100\n",
      "31/31 [==============================] - 0s 6ms/step - loss: 0.3247 - accuracy: 0.8793 - val_loss: 0.3154 - val_accuracy: 0.8786\n",
      "\n",
      "Epoch 00023: val_accuracy did not improve from 0.87939\n",
      "Epoch 24/100\n",
      "31/31 [==============================] - 0s 6ms/step - loss: 0.3233 - accuracy: 0.8798 - val_loss: 0.3145 - val_accuracy: 0.8787\n",
      "\n",
      "Epoch 00024: val_accuracy did not improve from 0.87939\n",
      "Epoch 25/100\n",
      "31/31 [==============================] - 0s 5ms/step - loss: 0.3220 - accuracy: 0.8802 - val_loss: 0.3130 - val_accuracy: 0.8794\n",
      "\n",
      "Epoch 00025: val_accuracy improved from 0.87939 to 0.87941, saving model to best_model.h5\n",
      "Epoch 26/100\n",
      "31/31 [==============================] - 0s 6ms/step - loss: 0.3206 - accuracy: 0.8808 - val_loss: 0.3116 - val_accuracy: 0.8797\n",
      "\n",
      "Epoch 00026: val_accuracy improved from 0.87941 to 0.87967, saving model to best_model.h5\n",
      "Epoch 27/100\n",
      "31/31 [==============================] - 0s 6ms/step - loss: 0.3192 - accuracy: 0.8808 - val_loss: 0.3097 - val_accuracy: 0.8802\n",
      "\n",
      "Epoch 00027: val_accuracy improved from 0.87967 to 0.88017, saving model to best_model.h5\n",
      "Epoch 28/100\n",
      "31/31 [==============================] - 0s 8ms/step - loss: 0.3180 - accuracy: 0.8814 - val_loss: 0.3101 - val_accuracy: 0.8792\n",
      "\n",
      "Epoch 00028: val_accuracy did not improve from 0.88017\n",
      "Epoch 29/100\n",
      "31/31 [==============================] - 0s 6ms/step - loss: 0.3167 - accuracy: 0.8816 - val_loss: 0.3066 - val_accuracy: 0.8818\n",
      "\n",
      "Epoch 00029: val_accuracy improved from 0.88017 to 0.88181, saving model to best_model.h5\n",
      "Epoch 30/100\n",
      "31/31 [==============================] - 0s 6ms/step - loss: 0.3154 - accuracy: 0.8817 - val_loss: 0.3058 - val_accuracy: 0.8814\n",
      "\n",
      "Epoch 00030: val_accuracy did not improve from 0.88181\n",
      "Epoch 31/100\n",
      "31/31 [==============================] - 0s 5ms/step - loss: 0.3143 - accuracy: 0.8821 - val_loss: 0.3058 - val_accuracy: 0.8813\n",
      "\n",
      "Epoch 00031: val_accuracy did not improve from 0.88181\n",
      "Epoch 32/100\n",
      "31/31 [==============================] - 0s 5ms/step - loss: 0.3134 - accuracy: 0.8824 - val_loss: 0.3032 - val_accuracy: 0.8827\n",
      "\n",
      "Epoch 00032: val_accuracy improved from 0.88181 to 0.88270, saving model to best_model.h5\n",
      "Epoch 33/100\n",
      "31/31 [==============================] - 0s 5ms/step - loss: 0.3124 - accuracy: 0.8830 - val_loss: 0.3037 - val_accuracy: 0.8823\n",
      "\n",
      "Epoch 00033: val_accuracy did not improve from 0.88270\n",
      "Epoch 34/100\n",
      "31/31 [==============================] - 0s 5ms/step - loss: 0.3115 - accuracy: 0.8829 - val_loss: 0.3017 - val_accuracy: 0.8829\n",
      "\n",
      "Epoch 00034: val_accuracy improved from 0.88270 to 0.88288, saving model to best_model.h5\n",
      "Epoch 35/100\n",
      "31/31 [==============================] - 0s 5ms/step - loss: 0.3107 - accuracy: 0.8831 - val_loss: 0.3027 - val_accuracy: 0.8817\n",
      "\n",
      "Epoch 00035: val_accuracy did not improve from 0.88288\n",
      "Epoch 36/100\n",
      "31/31 [==============================] - 0s 6ms/step - loss: 0.3100 - accuracy: 0.8832 - val_loss: 0.3024 - val_accuracy: 0.8815\n",
      "\n",
      "Epoch 00036: val_accuracy did not improve from 0.88288\n",
      "Epoch 37/100\n",
      "31/31 [==============================] - 0s 5ms/step - loss: 0.3093 - accuracy: 0.8832 - val_loss: 0.3023 - val_accuracy: 0.8800\n",
      "\n",
      "Epoch 00037: val_accuracy did not improve from 0.88288\n",
      "Epoch 38/100\n",
      "31/31 [==============================] - 0s 6ms/step - loss: 0.3087 - accuracy: 0.8829 - val_loss: 0.2992 - val_accuracy: 0.8825\n",
      "\n",
      "Epoch 00038: val_accuracy did not improve from 0.88288\n",
      "Epoch 39/100\n",
      "31/31 [==============================] - 0s 6ms/step - loss: 0.3080 - accuracy: 0.8832 - val_loss: 0.2995 - val_accuracy: 0.8822\n",
      "\n",
      "Epoch 00039: val_accuracy did not improve from 0.88288\n",
      "Epoch 40/100\n",
      "31/31 [==============================] - 0s 5ms/step - loss: 0.3076 - accuracy: 0.8832 - val_loss: 0.2985 - val_accuracy: 0.8822\n",
      "\n",
      "Epoch 00040: val_accuracy did not improve from 0.88288\n",
      "Epoch 41/100\n",
      "31/31 [==============================] - 0s 5ms/step - loss: 0.3071 - accuracy: 0.8833 - val_loss: 0.2987 - val_accuracy: 0.8813\n",
      "\n",
      "Epoch 00041: val_accuracy did not improve from 0.88288\n",
      "Epoch 42/100\n",
      "31/31 [==============================] - 0s 5ms/step - loss: 0.3067 - accuracy: 0.8831 - val_loss: 0.2974 - val_accuracy: 0.8825\n",
      "\n",
      "Epoch 00042: val_accuracy did not improve from 0.88288\n",
      "Epoch 43/100\n",
      "31/31 [==============================] - 0s 5ms/step - loss: 0.3062 - accuracy: 0.8834 - val_loss: 0.2975 - val_accuracy: 0.8824\n",
      "\n",
      "Epoch 00043: val_accuracy did not improve from 0.88288\n",
      "Epoch 44/100\n",
      "31/31 [==============================] - 0s 5ms/step - loss: 0.3059 - accuracy: 0.8836 - val_loss: 0.2973 - val_accuracy: 0.8824\n",
      "\n",
      "Epoch 00044: val_accuracy did not improve from 0.88288\n",
      "Epoch 45/100\n",
      "31/31 [==============================] - 0s 5ms/step - loss: 0.3055 - accuracy: 0.8833 - val_loss: 0.2960 - val_accuracy: 0.8829\n",
      "\n",
      "Epoch 00045: val_accuracy did not improve from 0.88288\n",
      "Epoch 46/100\n",
      "31/31 [==============================] - 0s 5ms/step - loss: 0.3052 - accuracy: 0.8836 - val_loss: 0.2966 - val_accuracy: 0.8818\n",
      "\n",
      "Epoch 00046: val_accuracy did not improve from 0.88288\n",
      "Epoch 47/100\n",
      "31/31 [==============================] - 0s 6ms/step - loss: 0.3050 - accuracy: 0.8832 - val_loss: 0.2945 - val_accuracy: 0.8838\n",
      "\n",
      "Epoch 00047: val_accuracy improved from 0.88288 to 0.88378, saving model to best_model.h5\n",
      "Epoch 48/100\n",
      "31/31 [==============================] - 0s 5ms/step - loss: 0.3047 - accuracy: 0.8836 - val_loss: 0.2956 - val_accuracy: 0.8826\n",
      "\n",
      "Epoch 00048: val_accuracy did not improve from 0.88378\n",
      "Epoch 49/100\n",
      "31/31 [==============================] - 0s 5ms/step - loss: 0.3044 - accuracy: 0.8838 - val_loss: 0.2947 - val_accuracy: 0.8835\n",
      "\n",
      "Epoch 00049: val_accuracy did not improve from 0.88378\n",
      "Epoch 50/100\n",
      "31/31 [==============================] - 0s 5ms/step - loss: 0.3042 - accuracy: 0.8838 - val_loss: 0.2954 - val_accuracy: 0.8827\n",
      "\n",
      "Epoch 00050: val_accuracy did not improve from 0.88378\n",
      "Epoch 51/100\n",
      "31/31 [==============================] - 0s 5ms/step - loss: 0.3040 - accuracy: 0.8838 - val_loss: 0.2941 - val_accuracy: 0.8838\n",
      "\n",
      "Epoch 00051: val_accuracy improved from 0.88378 to 0.88383, saving model to best_model.h5\n",
      "Epoch 52/100\n",
      "31/31 [==============================] - 0s 5ms/step - loss: 0.3037 - accuracy: 0.8836 - val_loss: 0.2940 - val_accuracy: 0.8834\n",
      "\n",
      "Epoch 00052: val_accuracy did not improve from 0.88383\n",
      "Epoch 53/100\n",
      "31/31 [==============================] - 0s 5ms/step - loss: 0.3036 - accuracy: 0.8837 - val_loss: 0.2925 - val_accuracy: 0.8842\n",
      "\n",
      "Epoch 00053: val_accuracy improved from 0.88383 to 0.88420, saving model to best_model.h5\n",
      "Epoch 54/100\n",
      "31/31 [==============================] - 0s 5ms/step - loss: 0.3034 - accuracy: 0.8840 - val_loss: 0.2945 - val_accuracy: 0.8826\n",
      "\n",
      "Epoch 00054: val_accuracy did not improve from 0.88420\n",
      "Epoch 55/100\n",
      "31/31 [==============================] - 0s 5ms/step - loss: 0.3032 - accuracy: 0.8840 - val_loss: 0.2931 - val_accuracy: 0.8835\n",
      "\n",
      "Epoch 00055: val_accuracy did not improve from 0.88420\n",
      "Epoch 56/100\n",
      "31/31 [==============================] - 0s 5ms/step - loss: 0.3029 - accuracy: 0.8841 - val_loss: 0.2931 - val_accuracy: 0.8834\n",
      "\n",
      "Epoch 00056: val_accuracy did not improve from 0.88420\n",
      "Epoch 57/100\n",
      "31/31 [==============================] - 0s 5ms/step - loss: 0.3029 - accuracy: 0.8841 - val_loss: 0.2938 - val_accuracy: 0.8827\n",
      "\n",
      "Epoch 00057: val_accuracy did not improve from 0.88420\n",
      "Epoch 58/100\n",
      "31/31 [==============================] - 0s 6ms/step - loss: 0.3026 - accuracy: 0.8842 - val_loss: 0.2929 - val_accuracy: 0.8833\n",
      "\n",
      "Epoch 00058: val_accuracy did not improve from 0.88420\n",
      "Epoch 59/100\n",
      "31/31 [==============================] - 0s 5ms/step - loss: 0.3024 - accuracy: 0.8842 - val_loss: 0.2929 - val_accuracy: 0.8835\n",
      "\n",
      "Epoch 00059: val_accuracy did not improve from 0.88420\n",
      "Epoch 60/100\n",
      "31/31 [==============================] - 0s 4ms/step - loss: 0.3024 - accuracy: 0.8840 - val_loss: 0.2907 - val_accuracy: 0.8844\n",
      "\n",
      "Epoch 00060: val_accuracy improved from 0.88420 to 0.88441, saving model to best_model.h5\n",
      "Epoch 61/100\n",
      "31/31 [==============================] - 0s 6ms/step - loss: 0.3023 - accuracy: 0.8838 - val_loss: 0.2949 - val_accuracy: 0.8821\n",
      "\n",
      "Epoch 00061: val_accuracy did not improve from 0.88441\n",
      "Epoch 62/100\n",
      "31/31 [==============================] - 0s 5ms/step - loss: 0.3021 - accuracy: 0.8839 - val_loss: 0.2911 - val_accuracy: 0.8836\n",
      "\n",
      "Epoch 00062: val_accuracy did not improve from 0.88441\n",
      "Epoch 63/100\n",
      "31/31 [==============================] - 0s 5ms/step - loss: 0.3019 - accuracy: 0.8841 - val_loss: 0.2944 - val_accuracy: 0.8823\n",
      "\n",
      "Epoch 00063: val_accuracy did not improve from 0.88441\n",
      "Epoch 64/100\n",
      "31/31 [==============================] - 0s 5ms/step - loss: 0.3018 - accuracy: 0.8842 - val_loss: 0.2941 - val_accuracy: 0.8824\n",
      "\n",
      "Epoch 00064: val_accuracy did not improve from 0.88441\n",
      "Epoch 65/100\n",
      "31/31 [==============================] - 0s 6ms/step - loss: 0.3017 - accuracy: 0.8842 - val_loss: 0.2922 - val_accuracy: 0.8835\n",
      "\n",
      "Epoch 00065: val_accuracy did not improve from 0.88441\n",
      "Epoch 66/100\n",
      "31/31 [==============================] - 0s 5ms/step - loss: 0.3015 - accuracy: 0.8845 - val_loss: 0.2931 - val_accuracy: 0.8833\n",
      "\n",
      "Epoch 00066: val_accuracy did not improve from 0.88441\n",
      "Epoch 67/100\n",
      "31/31 [==============================] - 0s 5ms/step - loss: 0.3014 - accuracy: 0.8843 - val_loss: 0.2919 - val_accuracy: 0.8837\n",
      "\n",
      "Epoch 00067: val_accuracy did not improve from 0.88441\n",
      "Epoch 68/100\n",
      "31/31 [==============================] - 0s 6ms/step - loss: 0.3013 - accuracy: 0.8844 - val_loss: 0.2932 - val_accuracy: 0.8834\n",
      "\n",
      "Epoch 00068: val_accuracy did not improve from 0.88441\n",
      "Epoch 69/100\n",
      "31/31 [==============================] - 0s 4ms/step - loss: 0.3012 - accuracy: 0.8842 - val_loss: 0.2921 - val_accuracy: 0.8836\n",
      "\n",
      "Epoch 00069: val_accuracy did not improve from 0.88441\n",
      "Epoch 70/100\n",
      "31/31 [==============================] - 0s 6ms/step - loss: 0.3011 - accuracy: 0.8844 - val_loss: 0.2923 - val_accuracy: 0.8836\n",
      "\n",
      "Epoch 00070: val_accuracy did not improve from 0.88441\n",
      "Epoch 71/100\n",
      "31/31 [==============================] - 0s 6ms/step - loss: 0.3010 - accuracy: 0.8844 - val_loss: 0.2924 - val_accuracy: 0.8834\n",
      "\n",
      "Epoch 00071: val_accuracy did not improve from 0.88441\n",
      "Epoch 72/100\n",
      "31/31 [==============================] - 0s 5ms/step - loss: 0.3009 - accuracy: 0.8839 - val_loss: 0.2911 - val_accuracy: 0.8838\n",
      "\n",
      "Epoch 00072: val_accuracy did not improve from 0.88441\n",
      "Epoch 73/100\n",
      "31/31 [==============================] - 0s 5ms/step - loss: 0.3007 - accuracy: 0.8844 - val_loss: 0.2913 - val_accuracy: 0.8839\n",
      "\n",
      "Epoch 00073: val_accuracy did not improve from 0.88441\n",
      "Epoch 74/100\n",
      "31/31 [==============================] - 0s 6ms/step - loss: 0.3007 - accuracy: 0.8842 - val_loss: 0.2919 - val_accuracy: 0.8835\n",
      "\n",
      "Epoch 00074: val_accuracy did not improve from 0.88441\n",
      "Epoch 75/100\n",
      "31/31 [==============================] - 0s 5ms/step - loss: 0.3006 - accuracy: 0.8844 - val_loss: 0.2910 - val_accuracy: 0.8838\n",
      "\n",
      "Epoch 00075: val_accuracy did not improve from 0.88441\n",
      "Epoch 76/100\n",
      "31/31 [==============================] - 0s 5ms/step - loss: 0.3005 - accuracy: 0.8843 - val_loss: 0.2908 - val_accuracy: 0.8838\n",
      "\n",
      "Epoch 00076: val_accuracy did not improve from 0.88441\n",
      "Epoch 77/100\n",
      "31/31 [==============================] - 0s 6ms/step - loss: 0.3004 - accuracy: 0.8843 - val_loss: 0.2929 - val_accuracy: 0.8832\n",
      "\n",
      "Epoch 00077: val_accuracy did not improve from 0.88441\n",
      "Epoch 78/100\n",
      "31/31 [==============================] - 0s 5ms/step - loss: 0.3004 - accuracy: 0.8845 - val_loss: 0.2904 - val_accuracy: 0.8837\n",
      "\n",
      "Epoch 00078: val_accuracy did not improve from 0.88441\n",
      "Epoch 79/100\n",
      "31/31 [==============================] - 0s 6ms/step - loss: 0.3003 - accuracy: 0.8844 - val_loss: 0.2927 - val_accuracy: 0.8832\n",
      "\n",
      "Epoch 00079: val_accuracy did not improve from 0.88441\n",
      "Epoch 80/100\n",
      "31/31 [==============================] - 0s 6ms/step - loss: 0.3002 - accuracy: 0.8844 - val_loss: 0.2920 - val_accuracy: 0.8836\n",
      "\n",
      "Epoch 00080: val_accuracy did not improve from 0.88441\n",
      "Epoch 00080: early stopping\n",
      "Saved model to disk\n"
     ]
    },
    {
     "data": {
      "text/plain": [
       "'Matriz de Confusion:'"
      ]
     },
     "metadata": {},
     "output_type": "display_data"
    },
    {
     "name": "stdout",
     "output_type": "stream",
     "text": [
      "[[12435  4001]\n",
      " [  426 21160]]\n",
      "Exactitud del modelo MLP:  88.35674083425386  %\n",
      "Coeficiente de Matthews de la MLP\n",
      "0.7715314407641727\n",
      "\n",
      "\n",
      "\n",
      "Index(['Asignatura Codificada', 'Cod.Car.Sec Codificado', 'Recursante', 'Anho',\n",
      "       '1P', '2P', 'Aprobado'],\n",
      "      dtype='object')\n"
     ]
    },
    {
     "name": "stderr",
     "output_type": "stream",
     "text": [
      "D:\\UserFiles\\anaconda\\envs\\ia\\lib\\site-packages\\sklearn\\utils\\validation.py:70: FutureWarning: Pass classes=[0 1], y=[0 1 1 ... 1 1 1] as keyword args. From version 1.0 (renaming of 0.25) passing these as positional arguments will result in an error\n",
      "  warnings.warn(f\"Pass {args_msg} as keyword args. From version \"\n"
     ]
    },
    {
     "name": "stdout",
     "output_type": "stream",
     "text": [
      "\n",
      "classes_:\n",
      "A list of class labels known to the classifier.\n",
      "[0 1]\n",
      "\n",
      "coef_:\n",
      "Coefficient of the features in the decision function.\n",
      "[[ 0.37740031  0.04599113  6.22299978 -2.60215828  0.95813307  1.77549876]]\n",
      "\n",
      "intercept_:\n",
      "Intercept (a.k.a. bias) added to the decision function.\n",
      "[-5.20235739]\n",
      "\n",
      "n_features_in_:\n",
      "Number of features seen during fit.\n",
      "6\n",
      "\n",
      "n_iter_:\n",
      "Actual number of iterations for all classes. If binary or multinomial, it \n",
      "returns only 1 element. For liblinear solver, only the maximum number of \n",
      "iteration across all classes is given.\n",
      "[19]\n"
     ]
    },
    {
     "data": {
      "text/plain": [
       "'Matriz de Confusion:'"
      ]
     },
     "metadata": {},
     "output_type": "display_data"
    },
    {
     "name": "stdout",
     "output_type": "stream",
     "text": [
      "[[11612  4824]\n",
      " [  637 20949]]\n",
      "Exactitud del modelo:  85.63726263742043  %\n",
      "Coeficiente de Matthews de la regresion logistica\n",
      "0.7176825058757456\n",
      "\n",
      "\n",
      "\n",
      "Index(['Asignatura Codificada', 'Cod.Car.Sec Codificado', 'Recursante', 'Anho',\n",
      "       '1P', '2P', 'Taller', 'Aprobado'],\n",
      "      dtype='object')\n"
     ]
    },
    {
     "name": "stderr",
     "output_type": "stream",
     "text": [
      "D:\\UserFiles\\anaconda\\envs\\ia\\lib\\site-packages\\sklearn\\utils\\validation.py:70: FutureWarning: Pass classes=[0 1], y=[0 1 1 ... 1 1 1] as keyword args. From version 1.0 (renaming of 0.25) passing these as positional arguments will result in an error\n",
      "  warnings.warn(f\"Pass {args_msg} as keyword args. From version \"\n"
     ]
    },
    {
     "name": "stdout",
     "output_type": "stream",
     "text": [
      "\n",
      "classes_:\n",
      "A list of class labels known to the classifier.\n",
      "[0 1]\n",
      "\n",
      "coef_:\n",
      "Coefficient of the features in the decision function.\n",
      "[[ 0.39407212  0.04531366  6.24403344 -2.59738278  1.01794392  1.88349435\n",
      "  -0.20938552]]\n",
      "\n",
      "intercept_:\n",
      "Intercept (a.k.a. bias) added to the decision function.\n",
      "[-5.17582864]\n",
      "\n",
      "n_features_in_:\n",
      "Number of features seen during fit.\n",
      "7\n",
      "\n",
      "n_iter_:\n",
      "Actual number of iterations for all classes. If binary or multinomial, it \n",
      "returns only 1 element. For liblinear solver, only the maximum number of \n",
      "iteration across all classes is given.\n",
      "[24]\n"
     ]
    },
    {
     "data": {
      "text/plain": [
       "'Matriz de Confusion:'"
      ]
     },
     "metadata": {},
     "output_type": "display_data"
    },
    {
     "name": "stdout",
     "output_type": "stream",
     "text": [
      "[[11620  4816]\n",
      " [  632 20954]]\n",
      "Exactitud del modelo:  85.6714533691021  %\n",
      "Coeficiente de Matthews de la regresion logistica\n",
      "0.7183979042825105\n"
     ]
    },
    {
     "data": {
      "image/png": "[encoded data removed]",
      "text/plain": [
       "<Figure size 432x288 with 1 Axes>"
      ]
     },
     "metadata": {
      "needs_background": "light"
     },
     "output_type": "display_data"
    }
   ],
   "source": [
    "i=0\n",
    "for features in [mod1,mod2,mod3,mod4,mod5,mod6,mod7]:\n",
    "    i=i+1\n",
    "    df=data[features]\n",
    "    print('\\n\\n')\n",
    "    print(df.columns)\n",
    "    X=df.drop('Aprobado',axis=1)\n",
    "    nb_classes=2\n",
    "    y=df[['Aprobado']]\n",
    "    \n",
    "    Xnp=np.array(X)\n",
    "    ynp=np.ravel(np.array(y))\n",
    "    scaler = MinMaxScaler(feature_range=(0, 1))\n",
    "    Xnorm = scaler.fit_transform(Xnp)\n",
    "    x_train, x_test, yLR_train, yLR_test = train_test_split(Xnorm,ynp,test_size=0.20, random_state=33)\n",
    "    y_train = to_categorical(yLR_train, nb_classes)\n",
    "    y_test  = to_categorical(yLR_test, nb_classes)\n",
    "    \n",
    "    \n",
    "    class_weights = class_weight.compute_class_weight('balanced',\n",
    "                                                 np.unique(yLR_train),\n",
    "                                                 yLR_train)\n",
    "        \n",
    "    logreg2 = LogisticRegression()\n",
    "    logreg2.fit(x_train,yLR_train)\n",
    "    y_pred=logreg2.predict(x_test)\n",
    "    print(\"\\nclasses_:\\nA list of class labels known to the classifier.\\n\"+str(logreg2.classes_))\n",
    "    print(\"\\ncoef_:\\nCoefficient of the features in the decision function.\\n\"+str(logreg2.coef_))\n",
    "    print(\"\\nintercept_:\\nIntercept (a.k.a. bias) added to the decision function.\\n\"+str(logreg2.intercept_))\n",
    "    print(\"\\nn_features_in_:\\nNumber of features seen during fit.\\n\"+str(logreg2.n_features_in_))\n",
    "    print(\"\\nn_iter_:\\nActual number of iterations for all classes. If binary or multinomial, it \\nreturns only 1 element. For liblinear solver, only the maximum number of \\niteration across all classes is given.\\n\"+str(logreg2.n_iter_))\n",
    "\n",
    "    matriz2=confusion_matrix(yLR_test,y_pred)\n",
    "    \n",
    "    display('Matriz de Confusion:')\n",
    "    print(matriz2)\n",
    "    exactitudRL=accuracy_score(yLR_test,y_pred)*100\n",
    "    print('Exactitud del modelo: ',exactitudRL,' %')\n",
    "    print(\"Coeficiente de Matthews de la regresion logistica\")\n",
    "    print(matthews_corrcoef(yLR_test,y_pred))\n",
    "    if(i==5):\n",
    "        input_shape=5\n",
    "        input_layer=5\n",
    "        nb_classes=2\n",
    "        activation = 'relu'\n",
    "        optimizer  = 'adam'\n",
    "        model = Sequential()\n",
    "        model.add(InputLayer(input_shape=(input_layer,)))\n",
    "        model.add(Dense(10, activation=activation))\n",
    "        model.add(Dense(20, activation=activation))\n",
    "        model.add(Dense(10, activation=activation))\n",
    "        model.add(Dense(10, activation=activation))\n",
    "        # Output layer.\n",
    "        model.add(Dense(nb_classes, activation='softmax'))\n",
    "        model_json = model.to_json()\n",
    "        with open(\"model.json\", \"w\") as json_file:\n",
    "            json_file.write(model_json)\n",
    "        filepath=\"best_model.h5\"\n",
    "        INIT_LR = 0.3e-3\n",
    "        EPOCHS = 100\n",
    "        BS = 5000\n",
    "        checkpoint = ModelCheckpoint(filepath, monitor='val_accuracy', verbose=1, save_best_only=True, mode='max')\n",
    "        early_stopping = EarlyStopping(monitor='val_accuracy', patience=20, verbose=1, mode='auto')\n",
    "        callbacks_list = [checkpoint,early_stopping]\n",
    "        opt = Adam(learning_rate=INIT_LR, decay=INIT_LR / EPOCHS)\n",
    "        model.compile(loss=\"binary_crossentropy\", optimizer=opt,\n",
    "                metrics=[\"accuracy\"]),\n",
    "        hist = model.fit(x_train, y_train, epochs=EPOCHS,class_weight = dict(enumerate(class_weights)), batch_size=BS, validation_data=(x_test, y_test), callbacks=[callbacks_list], verbose=1)\n",
    "        model.save_weights(\"model.h5\")\n",
    "        print(\"Saved model to disk\")\n",
    "        predIdxs = model.predict(x_test, batch_size=BS)\n",
    "        pred = np.argmax(predIdxs, axis=1)\n",
    "\n",
    "        matriz1=confusion_matrix(yLR_test,pred)\n",
    "        display('Matriz de Confusion:')\n",
    "        print(matriz1)\n",
    "        exactitudMLP=accuracy_score(yLR_test,pred)*100\n",
    "        print('Exactitud del modelo MLP: ',exactitudMLP,' %')\n",
    "        print(\"Coeficiente de Matthews de la MLP\")\n",
    "\n",
    "        print(matthews_corrcoef(yLR_test,pred))\n",
    "        N = len(hist.history[\"loss\"])\n",
    "        plt.figure()\n",
    "        plt.plot(np.arange(0, N), hist.history[\"loss\"], label=\"train_loss\")\n",
    "        plt.plot(np.arange(0, N), hist.history[\"val_loss\"], label=\"val_loss\")\n",
    "        plt.plot(np.arange(0, N), hist.history[\"accuracy\"], label=\"train_acc\")\n",
    "        plt.plot(np.arange(0, N), hist.history[\"val_accuracy\"], label=\"val_acc\")\n",
    "        plt.title(\"Training Loss and Accuracy on Dataset\")\n",
    "        plt.xlabel(\"Epoch\")\n",
    "        plt.ylabel(\"Loss/Accuracy\")\n",
    "        plt.legend(loc=\"best\")"
   ]
  },
  {
   "cell_type": "code",
   "execution_count": 98,
   "id": "civilian-thesaurus",
   "metadata": {},
   "outputs": [
    {
     "data": {
      "text/plain": [
       "<function print>"
      ]
     },
     "execution_count": 98,
     "metadata": {},
     "output_type": "execute_result"
    }
   ],
   "source": [
    "z=-1.47+3.87*(0.5)\n",
    "print"
   ]
  },
  {
   "cell_type": "code",
   "execution_count": 99,
   "id": "aware-stone",
   "metadata": {},
   "outputs": [],
   "source": [
    "def sigmoid(x):\n",
    "    a = []\n",
    "    for item in x:\n",
    "        a.append(1/(1+np.exp(-item)))\n",
    "    return a\n",
    "    "
   ]
  },
  {
   "cell_type": "code",
   "execution_count": 100,
   "id": "opening-ordinance",
   "metadata": {},
   "outputs": [
    {
     "data": {
      "image/png": "[encoded data removed]",
      "text/plain": [
       "<Figure size 432x288 with 1 Axes>"
      ]
     },
     "metadata": {
      "needs_background": "light"
     },
     "output_type": "display_data"
    }
   ],
   "source": [
    "x = np.arange(0, 24, 1)\n",
    "z=-1.47+3.87*x/24.0\n",
    "sig = sigmoid(z)\n",
    "fig, ax = plt.subplots()\n",
    "ax.plot(x,sig)\n",
    "ax.axhline(y=0.5, color='r', linestyle='-')\n",
    "ax.axvline(x=10, color='g', linestyle='-')\n",
    "ax.axvline(x=9, color='r', linestyle='-')\n",
    "ax.set_xlabel('1P Parcial(24)')\n",
    "ax.set_ylabel('PA')\n",
    "\n",
    "plt.show()"
   ]
  },
  {
   "cell_type": "code",
   "execution_count": null,
   "id": "protecting-salon",
   "metadata": {},
   "outputs": [],
   "source": []
  }
 ],
 "metadata": {
  "kernelspec": {
   "display_name": "Python 3 (ipykernel)",
   "language": "python",
   "name": "python3"
  },
  "language_info": {
   "codemirror_mode": {
    "name": "ipython",
    "version": 3
   },
   "file_extension": ".py",
   "mimetype": "text/x-python",
   "name": "python",
   "nbconvert_exporter": "python",
   "pygments_lexer": "ipython3",
   "version": "3.9.7"
  }
 },
 "nbformat": 4,
 "nbformat_minor": 5
}
