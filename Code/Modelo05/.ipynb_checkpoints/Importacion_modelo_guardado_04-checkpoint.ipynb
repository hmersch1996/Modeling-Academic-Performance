{
 "cells": [
  {
   "cell_type": "code",
   "execution_count": 1,
   "id": "89d72097",
   "metadata": {},
   "outputs": [
    {
     "name": "stderr",
     "output_type": "stream",
     "text": [
      "2022-03-13 10:35:48.869977: I tensorflow/stream_executor/platform/default/dso_loader.cc:49] Successfully opened dynamic library libcudart.so.10.1\n"
     ]
    }
   ],
   "source": [
    "from __future__ import absolute_import, division, print_function, unicode_literals\n",
    "import keras\n",
    "import tensorflow as tf\n",
    "\n",
    "tf.keras.backend.clear_session()  # Para restablecer fácilmente el estado del portátil."
   ]
  },
  {
   "cell_type": "code",
   "execution_count": 2,
   "id": "da4dd6ec",
   "metadata": {},
   "outputs": [
    {
     "name": "stderr",
     "output_type": "stream",
     "text": [
      "2022-03-13 10:35:51.811072: I tensorflow/compiler/jit/xla_cpu_device.cc:41] Not creating XLA devices, tf_xla_enable_xla_devices not set\n",
      "2022-03-13 10:35:51.812258: I tensorflow/stream_executor/platform/default/dso_loader.cc:49] Successfully opened dynamic library libcuda.so.1\n",
      "2022-03-13 10:35:51.843414: I tensorflow/stream_executor/cuda/cuda_gpu_executor.cc:941] successful NUMA node read from SysFS had negative value (-1), but there must be at least one NUMA node, so returning NUMA node zero\n",
      "2022-03-13 10:35:51.844102: I tensorflow/core/common_runtime/gpu/gpu_device.cc:1720] Found device 0 with properties: \n",
      "pciBusID: 0000:01:00.0 name: NVIDIA GeForce 940MX computeCapability: 5.0\n",
      "coreClock: 1.189GHz coreCount: 3 deviceMemorySize: 1.96GiB deviceMemoryBandwidth: 29.80GiB/s\n",
      "2022-03-13 10:35:51.844120: I tensorflow/stream_executor/platform/default/dso_loader.cc:49] Successfully opened dynamic library libcudart.so.10.1\n",
      "2022-03-13 10:35:51.896933: I tensorflow/stream_executor/platform/default/dso_loader.cc:49] Successfully opened dynamic library libcublas.so.10\n",
      "2022-03-13 10:35:51.897167: I tensorflow/stream_executor/platform/default/dso_loader.cc:49] Successfully opened dynamic library libcublasLt.so.10\n",
      "2022-03-13 10:35:51.929700: I tensorflow/stream_executor/platform/default/dso_loader.cc:49] Successfully opened dynamic library libcufft.so.10\n",
      "2022-03-13 10:35:51.936868: I tensorflow/stream_executor/platform/default/dso_loader.cc:49] Successfully opened dynamic library libcurand.so.10\n",
      "2022-03-13 10:35:51.989245: I tensorflow/stream_executor/platform/default/dso_loader.cc:49] Successfully opened dynamic library libcusolver.so.10\n",
      "2022-03-13 10:35:51.998500: I tensorflow/stream_executor/platform/default/dso_loader.cc:49] Successfully opened dynamic library libcusparse.so.10\n",
      "2022-03-13 10:35:52.096447: I tensorflow/stream_executor/platform/default/dso_loader.cc:49] Successfully opened dynamic library libcudnn.so.7\n",
      "2022-03-13 10:35:52.096842: I tensorflow/stream_executor/cuda/cuda_gpu_executor.cc:941] successful NUMA node read from SysFS had negative value (-1), but there must be at least one NUMA node, so returning NUMA node zero\n",
      "2022-03-13 10:35:52.098177: I tensorflow/stream_executor/cuda/cuda_gpu_executor.cc:941] successful NUMA node read from SysFS had negative value (-1), but there must be at least one NUMA node, so returning NUMA node zero\n",
      "2022-03-13 10:35:52.098675: I tensorflow/core/common_runtime/gpu/gpu_device.cc:1862] Adding visible gpu devices: 0\n",
      "2022-03-13 10:35:52.099435: I tensorflow/core/platform/cpu_feature_guard.cc:142] This TensorFlow binary is optimized with oneAPI Deep Neural Network Library (oneDNN) to use the following CPU instructions in performance-critical operations:  SSE4.1 SSE4.2 AVX AVX2 FMA\n",
      "To enable them in other operations, rebuild TensorFlow with the appropriate compiler flags.\n",
      "2022-03-13 10:35:52.100278: I tensorflow/stream_executor/cuda/cuda_gpu_executor.cc:941] successful NUMA node read from SysFS had negative value (-1), but there must be at least one NUMA node, so returning NUMA node zero\n",
      "2022-03-13 10:35:52.101174: I tensorflow/core/common_runtime/gpu/gpu_device.cc:1720] Found device 0 with properties: \n",
      "pciBusID: 0000:01:00.0 name: NVIDIA GeForce 940MX computeCapability: 5.0\n",
      "coreClock: 1.189GHz coreCount: 3 deviceMemorySize: 1.96GiB deviceMemoryBandwidth: 29.80GiB/s\n",
      "2022-03-13 10:35:52.101235: I tensorflow/stream_executor/platform/default/dso_loader.cc:49] Successfully opened dynamic library libcudart.so.10.1\n",
      "2022-03-13 10:35:52.101293: I tensorflow/stream_executor/platform/default/dso_loader.cc:49] Successfully opened dynamic library libcublas.so.10\n",
      "2022-03-13 10:35:52.101339: I tensorflow/stream_executor/platform/default/dso_loader.cc:49] Successfully opened dynamic library libcublasLt.so.10\n",
      "2022-03-13 10:35:52.101383: I tensorflow/stream_executor/platform/default/dso_loader.cc:49] Successfully opened dynamic library libcufft.so.10\n",
      "2022-03-13 10:35:52.101427: I tensorflow/stream_executor/platform/default/dso_loader.cc:49] Successfully opened dynamic library libcurand.so.10\n",
      "2022-03-13 10:35:52.101470: I tensorflow/stream_executor/platform/default/dso_loader.cc:49] Successfully opened dynamic library libcusolver.so.10\n",
      "2022-03-13 10:35:52.101514: I tensorflow/stream_executor/platform/default/dso_loader.cc:49] Successfully opened dynamic library libcusparse.so.10\n",
      "2022-03-13 10:35:52.101562: I tensorflow/stream_executor/platform/default/dso_loader.cc:49] Successfully opened dynamic library libcudnn.so.7\n",
      "2022-03-13 10:35:52.101718: I tensorflow/stream_executor/cuda/cuda_gpu_executor.cc:941] successful NUMA node read from SysFS had negative value (-1), but there must be at least one NUMA node, so returning NUMA node zero\n",
      "2022-03-13 10:35:52.102334: I tensorflow/stream_executor/cuda/cuda_gpu_executor.cc:941] successful NUMA node read from SysFS had negative value (-1), but there must be at least one NUMA node, so returning NUMA node zero\n",
      "2022-03-13 10:35:52.102821: I tensorflow/core/common_runtime/gpu/gpu_device.cc:1862] Adding visible gpu devices: 0\n",
      "2022-03-13 10:35:52.103503: I tensorflow/stream_executor/platform/default/dso_loader.cc:49] Successfully opened dynamic library libcudart.so.10.1\n",
      "2022-03-13 10:38:43.772501: I tensorflow/core/common_runtime/gpu/gpu_device.cc:1261] Device interconnect StreamExecutor with strength 1 edge matrix:\n",
      "2022-03-13 10:38:43.772532: I tensorflow/core/common_runtime/gpu/gpu_device.cc:1267]      0 \n",
      "2022-03-13 10:38:43.772541: I tensorflow/core/common_runtime/gpu/gpu_device.cc:1280] 0:   N \n",
      "2022-03-13 10:38:43.773426: I tensorflow/stream_executor/cuda/cuda_gpu_executor.cc:941] successful NUMA node read from SysFS had negative value (-1), but there must be at least one NUMA node, so returning NUMA node zero\n",
      "2022-03-13 10:38:43.773719: I tensorflow/stream_executor/cuda/cuda_gpu_executor.cc:941] successful NUMA node read from SysFS had negative value (-1), but there must be at least one NUMA node, so returning NUMA node zero\n",
      "2022-03-13 10:38:43.773951: I tensorflow/stream_executor/cuda/cuda_gpu_executor.cc:941] successful NUMA node read from SysFS had negative value (-1), but there must be at least one NUMA node, so returning NUMA node zero\n",
      "2022-03-13 10:38:43.774144: I tensorflow/core/common_runtime/gpu/gpu_device.cc:1406] Created TensorFlow device (/job:localhost/replica:0/task:0/device:GPU:0 with 1638 MB memory) -> physical GPU (device: 0, name: NVIDIA GeForce 940MX, pci bus id: 0000:01:00.0, compute capability: 5.0)\n",
      "2022-03-13 10:38:43.776777: I tensorflow/compiler/jit/xla_gpu_device.cc:99] Not creating XLA devices, tf_xla_enable_xla_devices not set\n"
     ]
    }
   ],
   "source": [
    "# Recrea exactamente el mismo modelo solo desde el archivo\n",
    "model = keras.models.load_model('modelo_guardado.h5')"
   ]
  },
  {
   "cell_type": "code",
   "execution_count": 3,
   "id": "c1b7c167",
   "metadata": {},
   "outputs": [
    {
     "name": "stdout",
     "output_type": "stream",
     "text": [
      "Model: \"sequential\"\n",
      "_________________________________________________________________\n",
      "Layer (type)                 Output Shape              Param #   \n",
      "=================================================================\n",
      "dense (Dense)                (None, 32)                352       \n",
      "_________________________________________________________________\n",
      "dropout (Dropout)            (None, 32)                0         \n",
      "_________________________________________________________________\n",
      "dense_1 (Dense)              (None, 128)               4224      \n",
      "_________________________________________________________________\n",
      "dropout_1 (Dropout)          (None, 128)               0         \n",
      "_________________________________________________________________\n",
      "dense_2 (Dense)              (None, 2)                 258       \n",
      "=================================================================\n",
      "Total params: 4,834\n",
      "Trainable params: 4,834\n",
      "Non-trainable params: 0\n",
      "_________________________________________________________________\n"
     ]
    }
   ],
   "source": [
    "model.summary()"
   ]
  },
  {
   "cell_type": "code",
   "execution_count": 4,
   "id": "e2463f5d",
   "metadata": {},
   "outputs": [],
   "source": [
    "import numpy as np\n",
    "import matplotlib.pyplot as plt\n",
    "import pandas as pd\n",
    "from sklearn.model_selection import train_test_split\n",
    "from sklearn import linear_model, model_selection\n",
    "import seaborn as sns\n",
    "#import tensorflow as tf\n",
    "import keras\n",
    "\n",
    "from keras.layers import Dense, Dropout\n",
    "from keras.models         import Sequential\n",
    "from keras.layers         import Dense, Dropout, Flatten\n",
    "from keras.utils.np_utils import to_categorical\n",
    "from keras.callbacks      import EarlyStopping, Callback\n",
    "from keras.layers         import Conv2D, MaxPooling2D\n",
    "from keras                import backend as K\n",
    "\n",
    "from sklearn.model_selection import train_test_split\n",
    "import numpy as np\n",
    "from sklearn.preprocessing import MinMaxScaler\n",
    "from pickle import dump,load\n",
    "\n",
    "y=load( open('labels.pkl', 'rb'))\n",
    "x_train=load( open('x_train.pkl', 'rb'))\n",
    "x_test=load( open('x_test.pkl', 'rb'))\n",
    "y_train=load( open('y_train.pkl', 'rb'))\n",
    "y_test=load( open('y_test.pkl', 'rb'))\n",
    "\n",
    "yLR_train =load( open('y_trainLR.pkl', 'rb'))\n",
    "yLR_test =load( open('y_testLR.pkl', 'rb'))\n"
   ]
  },
  {
   "cell_type": "code",
   "execution_count": 5,
   "id": "7dabf2fb",
   "metadata": {},
   "outputs": [
    {
     "name": "stderr",
     "output_type": "stream",
     "text": [
      "2022-03-13 10:38:45.205826: I tensorflow/compiler/mlir/mlir_graph_optimization_pass.cc:116] None of the MLIR optimization passes are enabled (registered 2)\n",
      "2022-03-13 10:38:45.227710: I tensorflow/core/platform/profile_utils/cpu_utils.cc:112] CPU Frequency: 2901210000 Hz\n",
      "2022-03-13 10:38:45.328152: I tensorflow/stream_executor/platform/default/dso_loader.cc:49] Successfully opened dynamic library libcublas.so.10\n"
     ]
    },
    {
     "data": {
      "text/plain": [
       "'Matriz de Confusion:'"
      ]
     },
     "metadata": {},
     "output_type": "display_data"
    },
    {
     "name": "stdout",
     "output_type": "stream",
     "text": [
      "[[[24825   390]\n",
      "  [ 4751 14419]]\n",
      "\n",
      " [[14419  4751]\n",
      "  [  390 24825]]]\n"
     ]
    }
   ],
   "source": [
    "#Creamos la matriz de confusion\n",
    "from sklearn.metrics import confusion_matrix\n",
    "from sklearn.metrics import multilabel_confusion_matrix\n",
    "\n",
    "#Una vez entrenado el modelo, se realizan las predicciones\n",
    "predictions=model.predict(x_test)\n",
    "\n",
    "predict_label = predictions.round()\n",
    "\n",
    "#Dimensiones de los datos que influyen en la matriz\n",
    "#print(np.shape(x_test))\n",
    "#print(np.shape(y_test))\n",
    "#print(np.shape(predictions))\n",
    "#print(np.shape(predict_label))\n",
    "\n",
    "#Creacion de la matriz\n",
    "matriz1=multilabel_confusion_matrix(y_test,predict_label)\n",
    "\n",
    "display('Matriz de Confusion:')\n",
    "print(matriz1)"
   ]
  },
  {
   "cell_type": "code",
   "execution_count": 6,
   "id": "cc8fd9df",
   "metadata": {},
   "outputs": [
    {
     "name": "stdout",
     "output_type": "stream",
     "text": [
      "Exactitud del modelo:  88.41725808268559  %\n"
     ]
    }
   ],
   "source": [
    "#Ahora calculamos la exactitud del modelo, para ello, se importa la siguiente libreria\n",
    "from sklearn.metrics import accuracy_score\n",
    "\n",
    "exactitud=accuracy_score(y_test,predict_label)*100\n",
    "print('Exactitud del modelo: ',exactitud,' %')"
   ]
  },
  {
   "cell_type": "code",
   "execution_count": 7,
   "id": "5972bb07",
   "metadata": {},
   "outputs": [
    {
     "name": "stdout",
     "output_type": "stream",
     "text": [
      "              precision    recall  f1-score   support\n",
      "\n",
      "           0       0.97      0.75      0.85     19170\n",
      "           1       0.84      0.98      0.91     25215\n",
      "\n",
      "   micro avg       0.88      0.88      0.88     44385\n",
      "   macro avg       0.91      0.87      0.88     44385\n",
      "weighted avg       0.90      0.88      0.88     44385\n",
      " samples avg       0.88      0.88      0.88     44385\n",
      "\n"
     ]
    }
   ],
   "source": [
    "from sklearn.metrics import confusion_matrix, classification_report  \n",
    "reporte=classification_report(y_test, predict_label)\n",
    "print(reporte)"
   ]
  },
  {
   "cell_type": "code",
   "execution_count": 8,
   "id": "567cc305",
   "metadata": {},
   "outputs": [
    {
     "data": {
      "text/plain": [
       "'Matriz de Confusion:'"
      ]
     },
     "metadata": {},
     "output_type": "display_data"
    },
    {
     "name": "stdout",
     "output_type": "stream",
     "text": [
      "[[13730  5440]\n",
      " [  909 24306]]\n",
      "Exactitud del modelo:  85.69561788892644  %\n"
     ]
    }
   ],
   "source": [
    "from sklearn.linear_model import LogisticRegression\n",
    "from sklearn import metrics\n",
    "\n",
    "logreg2 = LogisticRegression()\n",
    "\n",
    "logreg2.fit(x_train,yLR_train)\n",
    "\n",
    "y_pred=logreg2.predict(x_test)\n",
    "matriz2=confusion_matrix(yLR_test,y_pred)\n",
    "display('Matriz de Confusion:')\n",
    "print(matriz2)\n",
    "\n",
    "exactitudRL=accuracy_score(yLR_test,y_pred)*100\n",
    "print('Exactitud del modelo: ',exactitudRL,' %')"
   ]
  },
  {
   "cell_type": "code",
   "execution_count": 9,
   "id": "62739267",
   "metadata": {},
   "outputs": [
    {
     "name": "stdout",
     "output_type": "stream",
     "text": [
      "              precision    recall  f1-score   support\n",
      "\n",
      "           0       0.94      0.72      0.81     19170\n",
      "           1       0.82      0.96      0.88     25215\n",
      "\n",
      "    accuracy                           0.86     44385\n",
      "   macro avg       0.88      0.84      0.85     44385\n",
      "weighted avg       0.87      0.86      0.85     44385\n",
      "\n"
     ]
    }
   ],
   "source": [
    "reporte=classification_report(yLR_test,y_pred)\n",
    "print(reporte)"
   ]
  },
  {
   "cell_type": "code",
   "execution_count": 19,
   "id": "d366714d",
   "metadata": {},
   "outputs": [
    {
     "data": {
      "text/plain": [
       "<AxesSubplot:>"
      ]
     },
     "execution_count": 19,
     "metadata": {},
     "output_type": "execute_result"
    },
    {
     "data": {
      "image/png": "[encoded data removed]",
      "text/plain": [
       "<Figure size 432x288 with 2 Axes>"
      ]
     },
     "metadata": {},
     "output_type": "display_data"
    }
   ],
   "source": [
    "import seaborn as sns\n",
    "from sklearn.metrics import classification_report\n",
    "\n",
    "\n",
    "#Creamos la matriz de confusion para la regresion logistica\n",
    "sns.set_theme(color_codes=True)\n",
    "sns.heatmap(matriz2, annot=True,fmt='g')"
   ]
  },
  {
   "cell_type": "code",
   "execution_count": 20,
   "id": "3103610f",
   "metadata": {},
   "outputs": [
    {
     "data": {
      "text/plain": [
       "<AxesSubplot:>"
      ]
     },
     "execution_count": 20,
     "metadata": {},
     "output_type": "execute_result"
    },
    {
     "data": {
      "image/png": "[encoded data removed]",
      "text/plain": [
       "<Figure size 432x288 with 2 Axes>"
      ]
     },
     "metadata": {},
     "output_type": "display_data"
    }
   ],
   "source": [
    "#Creamos la matriz de confusion para el algoritmo genetico\n",
    "matriz=[[14419,4751],[390,24825]]\n",
    "\n",
    "sns.set_theme(color_codes=True)\n",
    "sns.heatmap(matriz, annot=True,fmt='g')\n"
   ]
  },
  {
   "cell_type": "code",
   "execution_count": null,
   "id": "bbbcb297",
   "metadata": {},
   "outputs": [],
   "source": []
  }
 ],
 "metadata": {
  "kernelspec": {
   "display_name": "Python 3 (ipykernel)",
   "language": "python",
   "name": "python3"
  },
  "language_info": {
   "codemirror_mode": {
    "name": "ipython",
    "version": 3
   },
   "file_extension": ".py",
   "mimetype": "text/x-python",
   "name": "python",
   "nbconvert_exporter": "python",
   "pygments_lexer": "ipython3",
   "version": "3.9.7"
  }
 },
 "nbformat": 4,
 "nbformat_minor": 5
}
