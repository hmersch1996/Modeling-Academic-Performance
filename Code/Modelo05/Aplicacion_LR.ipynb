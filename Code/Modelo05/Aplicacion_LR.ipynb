{
 "cells": [
  {
   "cell_type": "code",
   "execution_count": 1,
   "metadata": {},
   "outputs": [],
   "source": [
    "from __future__ import absolute_import, division, print_function, unicode_literals\n",
    "import keras\n",
    "import tensorflow as tf\n",
    "\n",
    "import tensorflow.keras.preprocessing.image \n",
    "import tensorflow.keras.models\n",
    "\n",
    "tf.keras.backend.clear_session()  # Para restablecer fácilmente el estado del portátil."
   ]
  },
  {
   "cell_type": "code",
   "execution_count": 2,
   "metadata": {},
   "outputs": [],
   "source": [
    "import numpy as np\n",
    "import matplotlib.pyplot as plt\n",
    "import pandas as pd\n",
    "from sklearn.model_selection import train_test_split\n",
    "from sklearn import linear_model, model_selection\n",
    "import seaborn as sns\n",
    "#import tensorflow as tf\n",
    "import keras\n",
    "\n",
    "from keras.layers import Dense, Dropout\n",
    "from keras.models         import Sequential\n",
    "from keras.layers         import Dense, Dropout, Flatten\n",
    "from keras.utils.np_utils import to_categorical\n",
    "from keras.callbacks      import EarlyStopping, Callback\n",
    "from keras.layers         import Conv2D, MaxPooling2D\n",
    "from keras                import backend as K\n",
    "\n",
    "from sklearn.model_selection import train_test_split\n",
    "import numpy as np\n",
    "from sklearn.preprocessing import MinMaxScaler\n",
    "from pickle import dump,load\n",
    "\n",
    "y=load( open('labels.pkl', 'rb'))\n",
    "x_train=load( open('x_train.pkl', 'rb'))\n",
    "x_test=load( open('x_test.pkl', 'rb'))\n",
    "y_train=load( open('y_train.pkl', 'rb'))\n",
    "y_test=load( open('y_test.pkl', 'rb'))\n",
    "\n",
    "yLR_train =load( open('y_trainLR.pkl', 'rb'))\n",
    "yLR_test =load( open('y_testLR.pkl', 'rb'))"
   ]
  },
  {
   "cell_type": "code",
   "execution_count": 6,
   "metadata": {},
   "outputs": [
    {
     "data": {
      "text/plain": [
       "'Matriz de Confusion:'"
      ]
     },
     "metadata": {},
     "output_type": "display_data"
    },
    {
     "name": "stdout",
     "output_type": "stream",
     "text": [
      "[[12799  6371]\n",
      " [   56 25159]]\n",
      "Exactitud del modelo:  85.51988284330292  %\n"
     ]
    }
   ],
   "source": [
    "#Ahora calculamos la exactitud del modelo, para ello, se importa la siguiente libreria\n",
    "from sklearn.metrics import accuracy_score\n",
    "#Creamos la matriz de confusion\n",
    "from sklearn.metrics import confusion_matrix,classification_report  \n",
    "from sklearn.metrics import multilabel_confusion_matrix\n",
    "\n",
    "from sklearn.linear_model import LogisticRegression\n",
    "from sklearn import metrics\n",
    "\n",
    "logreg2 = LogisticRegression()\n",
    "\n",
    "logreg2.fit(x_train,yLR_train)\n",
    "\n",
    "y_pred=logreg2.predict(x_test)\n",
    "matriz2=confusion_matrix(yLR_test,y_pred)\n",
    "display('Matriz de Confusion:')\n",
    "print(matriz2)\n",
    "\n",
    "exactitudRL=accuracy_score(yLR_test,y_pred)*100\n",
    "print('Exactitud del modelo: ',exactitudRL,' %')"
   ]
  },
  {
   "cell_type": "code",
   "execution_count": 7,
   "metadata": {},
   "outputs": [
    {
     "name": "stdout",
     "output_type": "stream",
     "text": [
      "              precision    recall  f1-score   support\n",
      "\n",
      "           0       1.00      0.67      0.80     19170\n",
      "           1       0.80      1.00      0.89     25215\n",
      "\n",
      "    accuracy                           0.86     44385\n",
      "   macro avg       0.90      0.83      0.84     44385\n",
      "weighted avg       0.88      0.86      0.85     44385\n",
      "\n"
     ]
    }
   ],
   "source": [
    "reporte=classification_report(yLR_test,y_pred)\n",
    "print(reporte)"
   ]
  },
  {
   "cell_type": "code",
   "execution_count": 8,
   "metadata": {},
   "outputs": [
    {
     "data": {
      "text/plain": [
       "<matplotlib.axes._subplots.AxesSubplot at 0x7f5c08cd9dd0>"
      ]
     },
     "execution_count": 8,
     "metadata": {},
     "output_type": "execute_result"
    },
    {
     "data": {
      "image/png": "[encoded data removed]",
      "text/plain": [
       "<Figure size 432x288 with 2 Axes>"
      ]
     },
     "metadata": {},
     "output_type": "display_data"
    }
   ],
   "source": [
    "import seaborn as sns\n",
    "from sklearn.metrics import classification_report\n",
    "\n",
    "\n",
    "#Creamos la matriz de confusion para la regresion logistica\n",
    "sns.set_theme(color_codes=True)\n",
    "sns.heatmap(matriz2, annot=True,fmt='g')"
   ]
  },
  {
   "cell_type": "code",
   "execution_count": 9,
   "metadata": {},
   "outputs": [
    {
     "name": "stdout",
     "output_type": "stream",
     "text": [
      "Coeficiente de Matthews de la regresion logistica\n"
     ]
    },
    {
     "data": {
      "text/plain": [
       "0.7266903542257519"
      ]
     },
     "execution_count": 9,
     "metadata": {},
     "output_type": "execute_result"
    }
   ],
   "source": [
    "from sklearn.metrics import matthews_corrcoef\n",
    "print(\"Coeficiente de Matthews de la regresion logistica\")\n",
    "matthews_corrcoef(yLR_test,y_pred)"
   ]
  },
  {
   "cell_type": "code",
   "execution_count": 10,
   "metadata": {},
   "outputs": [
    {
     "name": "stdout",
     "output_type": "stream",
     "text": [
      "\n",
      "classes_:\n",
      "A list of class labels known to the classifier.\n",
      "[0 1]\n",
      "\n",
      "coef_:\n",
      "Coefficient of the features in the decision function.\n",
      "[[-0.01461367  0.20816426  6.84835613 -1.51470173  0.02278581  6.35692917]]\n",
      "\n",
      "intercept_:\n",
      "Intercept (a.k.a. bias) added to the decision function.\n",
      "[-5.50921256]\n",
      "\n",
      "n_features_in_:\n",
      "Number of features seen during fit.\n",
      "6\n",
      "\n",
      "n_iter_:\n",
      "Actual number of iterations for all classes. If binary or multinomial, it \n",
      "returns only 1 element. For liblinear solver, only the maximum number of \n",
      "iteration across all classes is given.\n",
      "[31]\n"
     ]
    }
   ],
   "source": [
    "print(\"\\nclasses_:\\nA list of class labels known to the classifier.\\n\"+str(logreg2.classes_))\n",
    "print(\"\\ncoef_:\\nCoefficient of the features in the decision function.\\n\"+str(logreg2.coef_))\n",
    "print(\"\\nintercept_:\\nIntercept (a.k.a. bias) added to the decision function.\\n\"+str(logreg2.intercept_))\n",
    "print(\"\\nn_features_in_:\\nNumber of features seen during fit.\\n\"+str(logreg2.n_features_in_))\n",
    "#print(\"\\nfeature_names_in_:\"+str(logreg2.feature_names_in_))\n",
    "print(\"\\nn_iter_:\\nActual number of iterations for all classes. If binary or multinomial, it \\nreturns only 1 element. For liblinear solver, only the maximum number of \\niteration across all classes is given.\\n\"+str(logreg2.n_iter_))\n"
   ]
  },
  {
   "cell_type": "code",
   "execution_count": null,
   "metadata": {},
   "outputs": [],
   "source": []
  }
 ],
 "metadata": {
  "kernelspec": {
   "display_name": "Python 3 (ipykernel)",
   "language": "python",
   "name": "python3"
  },
  "language_info": {
   "codemirror_mode": {
    "name": "ipython",
    "version": 3
   },
   "file_extension": ".py",
   "mimetype": "text/x-python",
   "name": "python",
   "nbconvert_exporter": "python",
   "pygments_lexer": "ipython3",
   "version": "3.9.7"
  }
 },
 "nbformat": 4,
 "nbformat_minor": 4
}
