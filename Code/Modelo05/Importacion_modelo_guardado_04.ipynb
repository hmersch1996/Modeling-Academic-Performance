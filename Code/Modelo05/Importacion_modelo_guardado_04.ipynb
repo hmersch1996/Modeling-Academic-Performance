{
 "cells": [
  {
   "cell_type": "code",
   "execution_count": 208,
   "id": "returning-plasma",
   "metadata": {},
   "outputs": [],
   "source": [
    "import numpy as np\n",
    "import matplotlib.pyplot as plt\n",
    "import pandas as pd\n",
    "from sklearn.model_selection import train_test_split\n",
    "from sklearn import linear_model, model_selection\n",
    "import seaborn as sns\n",
    "\n",
    "from sklearn.metrics import confusion_matrix\n",
    "from sklearn.metrics import multilabel_confusion_matrix\n",
    "from sklearn.metrics import matthews_corrcoef\n",
    "from sklearn.model_selection import train_test_split\n",
    "from sklearn.preprocessing import MinMaxScaler\n",
    "from pickle import dump,load\n",
    "from sklearn.metrics import accuracy_score\n",
    "from sklearn.metrics import confusion_matrix, classification_report \n",
    "from sklearn.model_selection import train_test_split\n",
    "\n",
    "import tensorflow as tf\n",
    "from tensorflow.keras.optimizers import Adam\n",
    "from tensorflow.keras import backend as Kc\n",
    "from tensorflow.keras.models import Sequential\n",
    "from tensorflow.keras.layers import Dense, Dropout,InputLayer\n",
    "from tensorflow.keras.callbacks import EarlyStopping, ModelCheckpoint\n",
    "\n",
    "\n",
    "y=load( open('labels.pkl', 'rb'))\n",
    "x_train=load( open('x_train.pkl', 'rb'))\n",
    "x_test=load( open('x_test.pkl', 'rb'))\n",
    "\n",
    "yLR_train =load( open('y_trainLR.pkl', 'rb'))\n",
    "yLR_test =load( open('y_testLR.pkl', 'rb'))\n",
    "y_train = to_categorical(yLR_train, nb_classes)\n",
    "y_test = to_categorical(yLR_test, nb_classes)\n"
   ]
  },
  {
   "cell_type": "code",
   "execution_count": 209,
   "id": "narrow-albany",
   "metadata": {},
   "outputs": [],
   "source": [
    "#physical_devices = tf.config.experimental.list_physical_devices('GPU')\n",
    "#tf.config.experimental.set_memory_growth(physical_devices[0], True)"
   ]
  },
  {
   "cell_type": "code",
   "execution_count": 210,
   "id": "minimal-paragraph",
   "metadata": {},
   "outputs": [
    {
     "data": {
      "text/plain": [
       "'Matriz de Confusion:'"
      ]
     },
     "metadata": {},
     "output_type": "display_data"
    },
    {
     "name": "stdout",
     "output_type": "stream",
     "text": [
      "[[11450  5002]\n",
      " [  387 21439]]\n",
      "Exactitud del modelo:  85.92141700193322  %\n"
     ]
    }
   ],
   "source": [
    "from sklearn.linear_model import LogisticRegression\n",
    "from sklearn import metrics\n",
    "\n",
    "logreg2 = LogisticRegression()\n",
    "\n",
    "logreg2.fit(x_train,yLR_train)\n",
    "\n",
    "y_pred=logreg2.predict(x_test)\n",
    "matriz2=confusion_matrix(yLR_test,y_pred)\n",
    "display('Matriz de Confusion:')\n",
    "print(matriz2)\n",
    "\n",
    "exactitudRL=accuracy_score(yLR_test,y_pred)*100\n",
    "print('Exactitud del modelo: ',exactitudRL,' %')"
   ]
  },
  {
   "cell_type": "code",
   "execution_count": 211,
   "id": "nuclear-logan",
   "metadata": {},
   "outputs": [
    {
     "name": "stdout",
     "output_type": "stream",
     "text": [
      "              precision    recall  f1-score   support\n",
      "\n",
      "           0       0.97      0.70      0.81     16452\n",
      "           1       0.81      0.98      0.89     21826\n",
      "\n",
      "    accuracy                           0.86     38278\n",
      "   macro avg       0.89      0.84      0.85     38278\n",
      "weighted avg       0.88      0.86      0.85     38278\n",
      "\n"
     ]
    }
   ],
   "source": [
    "reporte=classification_report(yLR_test,y_pred)\n",
    "print(reporte)"
   ]
  },
  {
   "cell_type": "code",
   "execution_count": 212,
   "id": "determined-silicon",
   "metadata": {},
   "outputs": [
    {
     "data": {
      "text/plain": [
       "<AxesSubplot:>"
      ]
     },
     "execution_count": 212,
     "metadata": {},
     "output_type": "execute_result"
    },
    {
     "data": {
      "image/png": "[encoded data removed]",
      "text/plain": [
       "<Figure size 432x288 with 2 Axes>"
      ]
     },
     "metadata": {},
     "output_type": "display_data"
    }
   ],
   "source": [
    "import seaborn as sns\n",
    "from sklearn.metrics import classification_report\n",
    "\n",
    "\n",
    "#Creamos la matriz de confusion para la regresion logistica\n",
    "sns.set_theme(color_codes=True)\n",
    "sns.heatmap(matriz2, annot=True,fmt='g')"
   ]
  },
  {
   "cell_type": "code",
   "execution_count": 213,
   "id": "blond-missile",
   "metadata": {},
   "outputs": [
    {
     "data": {
      "text/plain": [
       "<AxesSubplot:>"
      ]
     },
     "execution_count": 213,
     "metadata": {},
     "output_type": "execute_result"
    },
    {
     "data": {
      "image/png": "[encoded data removed]",
      "text/plain": [
       "<Figure size 432x288 with 2 Axes>"
      ]
     },
     "metadata": {},
     "output_type": "display_data"
    }
   ],
   "source": [
    "#Creamos la matriz de confusion para el algoritmo genetico\n",
    "matriz=[[14419,4751],[390,24825]]\n",
    "\n",
    "sns.set_theme(color_codes=True)\n",
    "sns.heatmap(matriz, annot=True,fmt='g')\n"
   ]
  },
  {
   "cell_type": "code",
   "execution_count": 214,
   "id": "conditional-extraction",
   "metadata": {},
   "outputs": [
    {
     "name": "stdout",
     "output_type": "stream",
     "text": [
      "\n",
      "classes_:\n",
      "A list of class labels known to the classifier.\n",
      "[0 1]\n",
      "\n",
      "coef_:\n",
      "Coefficient of the features in the decision function.\n",
      "[[ 0.46606581  0.12426299  6.65705778 -2.44340684  7.94083379]]\n",
      "\n",
      "intercept_:\n",
      "Intercept (a.k.a. bias) added to the decision function.\n",
      "[-5.35710001]\n",
      "\n",
      "n_features_in_:\n",
      "Number of features seen during fit.\n",
      "5\n",
      "\n",
      "n_iter_:\n",
      "Actual number of iterations for all classes. If binary or multinomial, it \n",
      "returns only 1 element. For liblinear solver, only the maximum number of \n",
      "iteration across all classes is given.\n",
      "[28]\n"
     ]
    }
   ],
   "source": [
    "print(\"\\nclasses_:\\nA list of class labels known to the classifier.\\n\"+str(logreg2.classes_))\n",
    "print(\"\\ncoef_:\\nCoefficient of the features in the decision function.\\n\"+str(logreg2.coef_))\n",
    "print(\"\\nintercept_:\\nIntercept (a.k.a. bias) added to the decision function.\\n\"+str(logreg2.intercept_))\n",
    "print(\"\\nn_features_in_:\\nNumber of features seen during fit.\\n\"+str(logreg2.n_features_in_))\n",
    "#print(\"\\nfeature_names_in_:\"+str(logreg2.feature_names_in_))\n",
    "print(\"\\nn_iter_:\\nActual number of iterations for all classes. If binary or multinomial, it \\nreturns only 1 element. For liblinear solver, only the maximum number of \\niteration across all classes is given.\\n\"+str(logreg2.n_iter_))\n"
   ]
  },
  {
   "cell_type": "code",
   "execution_count": 215,
   "id": "familiar-termination",
   "metadata": {},
   "outputs": [
    {
     "name": "stdout",
     "output_type": "stream",
     "text": [
      "Coeficiente de Matthews de la regresion logistica\n"
     ]
    },
    {
     "data": {
      "text/plain": [
       "0.726466342027156"
      ]
     },
     "execution_count": 215,
     "metadata": {},
     "output_type": "execute_result"
    }
   ],
   "source": [
    "from sklearn.metrics import matthews_corrcoef\n",
    "\n",
    "print(\"Coeficiente de Matthews de la regresion logistica\")\n",
    "matthews_corrcoef(yLR_test,y_pred)"
   ]
  },
  {
   "cell_type": "code",
   "execution_count": 310,
   "id": "continuous-slope",
   "metadata": {},
   "outputs": [],
   "source": [
    "input_shape=5\n",
    "input_layer=5\n",
    "nb_classes=2\n",
    "activation = 'relu'\n",
    "optimizer  = 'adam' \n"
   ]
  },
  {
   "cell_type": "code",
   "execution_count": 311,
   "id": "checked-cholesterol",
   "metadata": {},
   "outputs": [],
   "source": [
    "model = Sequential()\n",
    "model.add(InputLayer(input_shape=(input_layer,)))\n",
    "model.add(Dense(10, activation=activation))\n",
    "model.add(Dense(20, activation=activation))\n",
    "model.add(Dense(10, activation=activation))\n",
    "model.add(Dense(10, activation=activation))\n",
    "# Output layer.\n",
    "model.add(Dense(nb_classes, activation='softmax'))\n",
    "model_json = model.to_json()\n",
    "with open(\"model.json\", \"w\") as json_file:\n",
    "    json_file.write(model_json)\n",
    "filepath=\"best_model.h5\"\n"
   ]
  },
  {
   "cell_type": "code",
   "execution_count": 312,
   "id": "solid-carter",
   "metadata": {},
   "outputs": [
    {
     "name": "stdout",
     "output_type": "stream",
     "text": [
      "Model: \"sequential_21\"\n",
      "_________________________________________________________________\n",
      "Layer (type)                 Output Shape              Param #   \n",
      "=================================================================\n",
      "dense_63 (Dense)             (None, 10)                60        \n",
      "_________________________________________________________________\n",
      "dense_64 (Dense)             (None, 20)                220       \n",
      "_________________________________________________________________\n",
      "dense_65 (Dense)             (None, 10)                210       \n",
      "_________________________________________________________________\n",
      "dense_66 (Dense)             (None, 10)                110       \n",
      "_________________________________________________________________\n",
      "dense_67 (Dense)             (None, 2)                 22        \n",
      "=================================================================\n",
      "Total params: 622\n",
      "Trainable params: 622\n",
      "Non-trainable params: 0\n",
      "_________________________________________________________________\n"
     ]
    }
   ],
   "source": [
    "model.summary()"
   ]
  },
  {
   "cell_type": "code",
   "execution_count": 313,
   "id": "requested-frame",
   "metadata": {},
   "outputs": [
    {
     "data": {
      "text/plain": [
       "(None,)"
      ]
     },
     "execution_count": 313,
     "metadata": {},
     "output_type": "execute_result"
    }
   ],
   "source": [
    "INIT_LR = 0.3e-3\n",
    "EPOCHS = 100\n",
    "BS = 5000\n",
    "checkpoint = ModelCheckpoint(filepath, monitor='val_accuracy', verbose=1, save_best_only=True, mode='max')\n",
    "early_stopping = EarlyStopping(monitor='val_accuracy', patience=20, verbose=1, mode='auto')\n",
    "callbacks_list = [checkpoint,early_stopping]\n",
    "opt = Adam(learning_rate=INIT_LR, decay=INIT_LR / EPOCHS)\n",
    "model.compile(loss=\"binary_crossentropy\", optimizer=opt,\n",
    "        metrics=[\"accuracy\"]),"
   ]
  },
  {
   "cell_type": "code",
   "execution_count": 314,
   "id": "supported-circuit",
   "metadata": {},
   "outputs": [
    {
     "data": {
      "text/plain": [
       "(153112, 5)"
      ]
     },
     "execution_count": 314,
     "metadata": {},
     "output_type": "execute_result"
    }
   ],
   "source": [
    "np.shape(x_train)"
   ]
  },
  {
   "cell_type": "code",
   "execution_count": 315,
   "id": "inside-purse",
   "metadata": {},
   "outputs": [],
   "source": [
    "from sklearn.utils import class_weight"
   ]
  },
  {
   "cell_type": "code",
   "execution_count": 316,
   "id": "worst-inspector",
   "metadata": {},
   "outputs": [
    {
     "name": "stdout",
     "output_type": "stream",
     "text": [
      "[1.16311152 0.87701049]\n"
     ]
    },
    {
     "name": "stderr",
     "output_type": "stream",
     "text": [
      "D:\\UserFiles\\anaconda\\envs\\ia\\lib\\site-packages\\sklearn\\utils\\validation.py:70: FutureWarning: Pass classes=[0 1], y=[0 0 0 ... 1 1 1] as keyword args. From version 1.0 (renaming of 0.25) passing these as positional arguments will result in an error\n",
      "  warnings.warn(f\"Pass {args_msg} as keyword args. From version \"\n"
     ]
    }
   ],
   "source": [
    "class_weights = class_weight.compute_class_weight('balanced',\n",
    "                                                 np.unique(yLR_train),\n",
    "                                                 yLR_train)\n",
    "print(class_weights )"
   ]
  },
  {
   "cell_type": "code",
   "execution_count": null,
   "id": "theoretical-contributor",
   "metadata": {},
   "outputs": [],
   "source": []
  },
  {
   "cell_type": "code",
   "execution_count": 317,
   "id": "secret-endorsement",
   "metadata": {},
   "outputs": [
    {
     "name": "stdout",
     "output_type": "stream",
     "text": [
      "Epoch 1/100\n",
      "31/31 [==============================] - 2s 17ms/step - loss: 0.6935 - accuracy: 0.5050 - val_loss: 0.6885 - val_accuracy: 0.6782\n",
      "\n",
      "Epoch 00001: val_accuracy improved from -inf to 0.67820, saving model to best_model.h5\n",
      "Epoch 2/100\n",
      "31/31 [==============================] - 0s 9ms/step - loss: 0.6828 - accuracy: 0.7672 - val_loss: 0.6770 - val_accuracy: 0.7998\n",
      "\n",
      "Epoch 00002: val_accuracy improved from 0.67820 to 0.79978, saving model to best_model.h5\n",
      "Epoch 3/100\n",
      "31/31 [==============================] - 0s 9ms/step - loss: 0.6709 - accuracy: 0.8166 - val_loss: 0.6598 - val_accuracy: 0.8334\n",
      "\n",
      "Epoch 00003: val_accuracy improved from 0.79978 to 0.83340, saving model to best_model.h5\n",
      "Epoch 4/100\n",
      "31/31 [==============================] - 0s 7ms/step - loss: 0.6504 - accuracy: 0.8380 - val_loss: 0.6327 - val_accuracy: 0.8438\n",
      "\n",
      "Epoch 00004: val_accuracy improved from 0.83340 to 0.84380, saving model to best_model.h5\n",
      "Epoch 5/100\n",
      "31/31 [==============================] - 0s 9ms/step - loss: 0.6214 - accuracy: 0.8470 - val_loss: 0.5970 - val_accuracy: 0.8500\n",
      "\n",
      "Epoch 00005: val_accuracy improved from 0.84380 to 0.85004, saving model to best_model.h5\n",
      "Epoch 6/100\n",
      "31/31 [==============================] - 0s 8ms/step - loss: 0.5852 - accuracy: 0.8501 - val_loss: 0.5538 - val_accuracy: 0.8529\n",
      "\n",
      "Epoch 00006: val_accuracy improved from 0.85004 to 0.85292, saving model to best_model.h5\n",
      "Epoch 7/100\n",
      "31/31 [==============================] - 0s 8ms/step - loss: 0.5443 - accuracy: 0.8514 - val_loss: 0.5091 - val_accuracy: 0.8536\n",
      "\n",
      "Epoch 00007: val_accuracy improved from 0.85292 to 0.85357, saving model to best_model.h5\n",
      "Epoch 8/100\n",
      "31/31 [==============================] - 0s 10ms/step - loss: 0.5044 - accuracy: 0.8520 - val_loss: 0.4693 - val_accuracy: 0.8540\n",
      "\n",
      "Epoch 00008: val_accuracy improved from 0.85357 to 0.85404, saving model to best_model.h5\n",
      "Epoch 9/100\n",
      "31/31 [==============================] - 0s 10ms/step - loss: 0.4683 - accuracy: 0.8532 - val_loss: 0.4362 - val_accuracy: 0.8552\n",
      "\n",
      "Epoch 00009: val_accuracy improved from 0.85404 to 0.85516, saving model to best_model.h5\n",
      "Epoch 10/100\n",
      "31/31 [==============================] - 0s 8ms/step - loss: 0.4375 - accuracy: 0.8560 - val_loss: 0.4091 - val_accuracy: 0.8601\n",
      "\n",
      "Epoch 00010: val_accuracy improved from 0.85516 to 0.86010, saving model to best_model.h5\n",
      "Epoch 11/100\n",
      "31/31 [==============================] - 0s 8ms/step - loss: 0.4122 - accuracy: 0.8627 - val_loss: 0.3868 - val_accuracy: 0.8683\n",
      "\n",
      "Epoch 00011: val_accuracy improved from 0.86010 to 0.86825, saving model to best_model.h5\n",
      "Epoch 12/100\n",
      "31/31 [==============================] - 0s 8ms/step - loss: 0.3921 - accuracy: 0.8683 - val_loss: 0.3696 - val_accuracy: 0.8718\n",
      "\n",
      "Epoch 00012: val_accuracy improved from 0.86825 to 0.87175, saving model to best_model.h5\n",
      "Epoch 13/100\n",
      "31/31 [==============================] - 0s 7ms/step - loss: 0.3770 - accuracy: 0.8741 - val_loss: 0.3566 - val_accuracy: 0.8794\n",
      "\n",
      "Epoch 00013: val_accuracy improved from 0.87175 to 0.87943, saving model to best_model.h5\n",
      "Epoch 14/100\n",
      "31/31 [==============================] - 0s 8ms/step - loss: 0.3657 - accuracy: 0.8813 - val_loss: 0.3473 - val_accuracy: 0.8846\n",
      "\n",
      "Epoch 00014: val_accuracy improved from 0.87943 to 0.88458, saving model to best_model.h5\n",
      "Epoch 15/100\n",
      "31/31 [==============================] - 0s 10ms/step - loss: 0.3577 - accuracy: 0.8834 - val_loss: 0.3410 - val_accuracy: 0.8845\n",
      "\n",
      "Epoch 00015: val_accuracy did not improve from 0.88458\n",
      "Epoch 16/100\n",
      "31/31 [==============================] - 0s 7ms/step - loss: 0.3522 - accuracy: 0.8835 - val_loss: 0.3365 - val_accuracy: 0.8847\n",
      "\n",
      "Epoch 00016: val_accuracy improved from 0.88458 to 0.88466, saving model to best_model.h5\n",
      "Epoch 17/100\n",
      "31/31 [==============================] - 0s 9ms/step - loss: 0.3482 - accuracy: 0.8830 - val_loss: 0.3339 - val_accuracy: 0.8837\n",
      "\n",
      "Epoch 00017: val_accuracy did not improve from 0.88466\n",
      "Epoch 18/100\n",
      "31/31 [==============================] - 0s 9ms/step - loss: 0.3451 - accuracy: 0.8826 - val_loss: 0.3306 - val_accuracy: 0.8839\n",
      "\n",
      "Epoch 00018: val_accuracy did not improve from 0.88466\n",
      "Epoch 19/100\n",
      "31/31 [==============================] - 0s 9ms/step - loss: 0.3427 - accuracy: 0.8824 - val_loss: 0.3297 - val_accuracy: 0.8829\n",
      "\n",
      "Epoch 00019: val_accuracy did not improve from 0.88466\n",
      "Epoch 20/100\n",
      "31/31 [==============================] - 0s 7ms/step - loss: 0.3406 - accuracy: 0.8824 - val_loss: 0.3261 - val_accuracy: 0.8848\n",
      "\n",
      "Epoch 00020: val_accuracy improved from 0.88466 to 0.88476, saving model to best_model.h5\n",
      "Epoch 21/100\n",
      "31/31 [==============================] - 0s 9ms/step - loss: 0.3388 - accuracy: 0.8829 - val_loss: 0.3248 - val_accuracy: 0.8845\n",
      "\n",
      "Epoch 00021: val_accuracy did not improve from 0.88476\n",
      "Epoch 22/100\n",
      "31/31 [==============================] - 0s 8ms/step - loss: 0.3372 - accuracy: 0.8828 - val_loss: 0.3228 - val_accuracy: 0.8846\n",
      "\n",
      "Epoch 00022: val_accuracy did not improve from 0.88476\n",
      "Epoch 23/100\n",
      "31/31 [==============================] - 0s 6ms/step - loss: 0.3359 - accuracy: 0.8827 - val_loss: 0.3219 - val_accuracy: 0.8846\n",
      "\n",
      "Epoch 00023: val_accuracy did not improve from 0.88476\n",
      "Epoch 24/100\n",
      "31/31 [==============================] - 0s 7ms/step - loss: 0.3347 - accuracy: 0.8827 - val_loss: 0.3215 - val_accuracy: 0.8844\n",
      "\n",
      "Epoch 00024: val_accuracy did not improve from 0.88476\n",
      "Epoch 25/100\n",
      "31/31 [==============================] - 0s 7ms/step - loss: 0.3337 - accuracy: 0.8830 - val_loss: 0.3203 - val_accuracy: 0.8843\n",
      "\n",
      "Epoch 00025: val_accuracy did not improve from 0.88476\n",
      "Epoch 26/100\n",
      "31/31 [==============================] - 0s 9ms/step - loss: 0.3327 - accuracy: 0.8828 - val_loss: 0.3195 - val_accuracy: 0.8840\n",
      "\n",
      "Epoch 00026: val_accuracy did not improve from 0.88476\n",
      "Epoch 27/100\n",
      "31/31 [==============================] - 0s 8ms/step - loss: 0.3319 - accuracy: 0.8828 - val_loss: 0.3193 - val_accuracy: 0.8834\n",
      "\n",
      "Epoch 00027: val_accuracy did not improve from 0.88476\n",
      "Epoch 28/100\n",
      "31/31 [==============================] - 0s 9ms/step - loss: 0.3311 - accuracy: 0.8829 - val_loss: 0.3178 - val_accuracy: 0.8841\n",
      "\n",
      "Epoch 00028: val_accuracy did not improve from 0.88476\n",
      "Epoch 29/100\n",
      "31/31 [==============================] - 0s 8ms/step - loss: 0.3304 - accuracy: 0.8830 - val_loss: 0.3179 - val_accuracy: 0.8833\n",
      "\n",
      "Epoch 00029: val_accuracy did not improve from 0.88476\n",
      "Epoch 30/100\n",
      "31/31 [==============================] - 0s 10ms/step - loss: 0.3298 - accuracy: 0.8828 - val_loss: 0.3166 - val_accuracy: 0.8840\n",
      "\n",
      "Epoch 00030: val_accuracy did not improve from 0.88476\n",
      "Epoch 31/100\n",
      "31/31 [==============================] - 0s 7ms/step - loss: 0.3291 - accuracy: 0.8828 - val_loss: 0.3165 - val_accuracy: 0.8831\n",
      "\n",
      "Epoch 00031: val_accuracy did not improve from 0.88476\n",
      "Epoch 32/100\n",
      "31/31 [==============================] - 0s 8ms/step - loss: 0.3285 - accuracy: 0.8826 - val_loss: 0.3162 - val_accuracy: 0.8830\n",
      "\n",
      "Epoch 00032: val_accuracy did not improve from 0.88476\n",
      "Epoch 33/100\n",
      "31/31 [==============================] - 0s 9ms/step - loss: 0.3280 - accuracy: 0.8827 - val_loss: 0.3157 - val_accuracy: 0.8827\n",
      "\n",
      "Epoch 00033: val_accuracy did not improve from 0.88476\n",
      "Epoch 34/100\n",
      "31/31 [==============================] - 0s 9ms/step - loss: 0.3274 - accuracy: 0.8826 - val_loss: 0.3142 - val_accuracy: 0.8831\n",
      "\n",
      "Epoch 00034: val_accuracy did not improve from 0.88476\n",
      "Epoch 35/100\n",
      "31/31 [==============================] - 0s 7ms/step - loss: 0.3268 - accuracy: 0.8827 - val_loss: 0.3140 - val_accuracy: 0.8829\n",
      "\n",
      "Epoch 00035: val_accuracy did not improve from 0.88476\n",
      "Epoch 36/100\n",
      "31/31 [==============================] - ETA: 0s - loss: 0.3263 - accuracy: 0.88 - 0s 10ms/step - loss: 0.3263 - accuracy: 0.8828 - val_loss: 0.3138 - val_accuracy: 0.8828\n",
      "\n",
      "Epoch 00036: val_accuracy did not improve from 0.88476\n",
      "Epoch 37/100\n",
      "31/31 [==============================] - 0s 8ms/step - loss: 0.3258 - accuracy: 0.8828 - val_loss: 0.3137 - val_accuracy: 0.8828\n",
      "\n",
      "Epoch 00037: val_accuracy did not improve from 0.88476\n",
      "Epoch 38/100\n",
      "31/31 [==============================] - 0s 8ms/step - loss: 0.3253 - accuracy: 0.8826 - val_loss: 0.3132 - val_accuracy: 0.8827\n",
      "\n",
      "Epoch 00038: val_accuracy did not improve from 0.88476\n",
      "Epoch 39/100\n",
      "31/31 [==============================] - 0s 7ms/step - loss: 0.3248 - accuracy: 0.8827 - val_loss: 0.3129 - val_accuracy: 0.8830\n",
      "\n",
      "Epoch 00039: val_accuracy did not improve from 0.88476\n",
      "Epoch 40/100\n",
      "31/31 [==============================] - 0s 8ms/step - loss: 0.3244 - accuracy: 0.8825 - val_loss: 0.3113 - val_accuracy: 0.8833\n",
      "\n",
      "Epoch 00040: val_accuracy did not improve from 0.88476\n",
      "Epoch 00040: early stopping\n"
     ]
    }
   ],
   "source": [
    "hist = model.fit(x_train, y_train, epochs=EPOCHS,class_weight = dict(enumerate(class_weights)), batch_size=BS, validation_data=(x_test, y_test), callbacks=[callbacks_list], verbose=1)\n"
   ]
  },
  {
   "cell_type": "code",
   "execution_count": 318,
   "id": "maritime-judge",
   "metadata": {},
   "outputs": [
    {
     "name": "stdout",
     "output_type": "stream",
     "text": [
      "Saved model to disk\n"
     ]
    }
   ],
   "source": [
    "model.save_weights(\"model.h5\")\n",
    "print(\"Saved model to disk\")\n",
    "predIdxs = model.predict(x_test, batch_size=BS)\n",
    "pred = np.argmax(predIdxs, axis=1)\n",
    "\n"
   ]
  },
  {
   "cell_type": "code",
   "execution_count": 319,
   "id": "political-kingdom",
   "metadata": {},
   "outputs": [
    {
     "name": "stdout",
     "output_type": "stream",
     "text": [
      "              precision    recall  f1-score   support\n",
      "\n",
      "           0       0.97      0.75      0.85     16452\n",
      "           1       0.84      0.98      0.91     21826\n",
      "\n",
      "    accuracy                           0.88     38278\n",
      "   macro avg       0.90      0.87      0.88     38278\n",
      "weighted avg       0.90      0.88      0.88     38278\n",
      "\n"
     ]
    }
   ],
   "source": [
    "print(classification_report(y_test.argmax(axis=1), pred ))\n",
    "   "
   ]
  },
  {
   "cell_type": "code",
   "execution_count": 320,
   "id": "confirmed-struggle",
   "metadata": {},
   "outputs": [
    {
     "name": "stdout",
     "output_type": "stream",
     "text": [
      "[[12405  4047]\n",
      " [  420 21406]]\n"
     ]
    }
   ],
   "source": [
    "matriz2=confusion_matrix(yLR_test,pred)\n",
    "print(matriz2)"
   ]
  },
  {
   "cell_type": "code",
   "execution_count": 321,
   "id": "utility-ratio",
   "metadata": {},
   "outputs": [
    {
     "data": {
      "text/plain": [
       "0.7706351581163112"
      ]
     },
     "execution_count": 321,
     "metadata": {},
     "output_type": "execute_result"
    }
   ],
   "source": [
    "matthews_corrcoef(yLR_test,pred)"
   ]
  },
  {
   "cell_type": "code",
   "execution_count": 322,
   "id": "recorded-engineering",
   "metadata": {},
   "outputs": [
    {
     "data": {
      "text/plain": [
       "<matplotlib.legend.Legend at 0x2021a0bfb80>"
      ]
     },
     "execution_count": 322,
     "metadata": {},
     "output_type": "execute_result"
    },
    {
     "data": {
      "image/png": "[encoded data removed]",
      "text/plain": [
       "<Figure size 432x288 with 1 Axes>"
      ]
     },
     "metadata": {},
     "output_type": "display_data"
    }
   ],
   "source": [
    "N = len(hist.history[\"loss\"])\n",
    "plt.figure()\n",
    "plt.plot(np.arange(0, N), hist.history[\"loss\"], label=\"train_loss\")\n",
    "plt.plot(np.arange(0, N), hist.history[\"val_loss\"], label=\"val_loss\")\n",
    "plt.plot(np.arange(0, N), hist.history[\"accuracy\"], label=\"train_acc\")\n",
    "plt.plot(np.arange(0, N), hist.history[\"val_accuracy\"], label=\"val_acc\")\n",
    "plt.title(\"Training Loss and Accuracy on Dataset\")\n",
    "plt.xlabel(\"Epoch\")\n",
    "plt.ylabel(\"Loss/Accuracy\")\n",
    "plt.legend(loc=\"best\")"
   ]
  },
  {
   "cell_type": "code",
   "execution_count": 324,
   "id": "surprising-jacket",
   "metadata": {},
   "outputs": [
    {
     "data": {
      "text/plain": [
       "88.33011129108104"
      ]
     },
     "execution_count": 324,
     "metadata": {},
     "output_type": "execute_result"
    }
   ],
   "source": [
    "accuracy_score(yLR_test,pred)*100"
   ]
  },
  {
   "cell_type": "code",
   "execution_count": null,
   "id": "changed-conversation",
   "metadata": {},
   "outputs": [],
   "source": []
  },
  {
   "cell_type": "code",
   "execution_count": null,
   "id": "elementary-colonial",
   "metadata": {},
   "outputs": [],
   "source": []
  }
 ],
 "metadata": {
  "kernelspec": {
   "display_name": "Python 3",
   "language": "python",
   "name": "python3"
  },
  "language_info": {
   "codemirror_mode": {
    "name": "ipython",
    "version": 3
   },
   "file_extension": ".py",
   "mimetype": "text/x-python",
   "name": "python",
   "nbconvert_exporter": "python",
   "pygments_lexer": "ipython3",
   "version": "3.8.8"
  }
 },
 "nbformat": 4,
 "nbformat_minor": 5
}
